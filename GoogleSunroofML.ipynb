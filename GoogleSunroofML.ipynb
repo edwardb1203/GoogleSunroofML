{
  "nbformat": 4,
  "nbformat_minor": 0,
  "metadata": {
    "colab": {
      "provenance": [],
      "collapsed_sections": [
        "6tiXHv_YvvT9",
        "tfNw4lLGKCEa",
        "g3n465eFw6aB",
        "qWc6hF7gx-Pw",
        "vr5CIdcmyR0y",
        "W_QTLGioyiPF",
        "0ulEKg3Pvgxl"
      ],
      "include_colab_link": true
    },
    "kernelspec": {
      "name": "python3",
      "display_name": "Python 3"
    },
    "language_info": {
      "name": "python"
    }
  },
  "cells": [
    {
      "cell_type": "markdown",
      "metadata": {
        "id": "view-in-github",
        "colab_type": "text"
      },
      "source": [
        "<a href=\"https://colab.research.google.com/github/edwardb1203/GoogleSunroofML/blob/main/GoogleSunroofML.ipynb\" target=\"_parent\"><img src=\"https://colab.research.google.com/assets/colab-badge.svg\" alt=\"Open In Colab\"/></a>"
      ]
    },
    {
      "cell_type": "code",
      "execution_count": null,
      "metadata": {
        "id": "Ggzw_-hatn_w"
      },
      "outputs": [],
      "source": [
        "# Data manipulation\n",
        "import pandas as pd\n",
        "import numpy as np\n",
        "# Visualization\n",
        "import matplotlib.pyplot as plt\n",
        "import seaborn as sns \n",
        "# Understanding results\n",
        "from sklearn.metrics import classification_report\n",
        "from sklearn import metrics\n",
        "from sklearn.model_selection import cross_val_score\n",
        "# Ridge penalties\n",
        "from sklearn.linear_model import Ridge\n",
        "from sklearn.linear_model import Lasso\n",
        "from sklearn.metrics import r2_score\n",
        "from sklearn.metrics import mean_squared_error\n",
        "from math import sqrt\n",
        "# Models\n",
        "from sklearn.model_selection import train_test_split\n",
        "from sklearn.linear_model import LinearRegression\n",
        "from sklearn.preprocessing import MinMaxScaler\n",
        "from sklearn.ensemble import RandomForestClassifier\n",
        "from sklearn.tree import DecisionTreeClassifier\n",
        "from sklearn.svm import SVC\n",
        "from sklearn.linear_model import LogisticRegression"
      ]
    },
    {
      "cell_type": "code",
      "source": [
        "# Initializing empty lists to store model accuarcy and name for later comparison\n",
        "accuracy = []\n",
        "model = []"
      ],
      "metadata": {
        "id": "IBtDpM-bwLTg"
      },
      "execution_count": null,
      "outputs": []
    },
    {
      "cell_type": "markdown",
      "source": [
        "# Exploring and cleaning our data"
      ],
      "metadata": {
        "id": "qjNRmQ0YvqIj"
      }
    },
    {
      "cell_type": "code",
      "source": [
        "# We are using the Google Sunroof data set taken from Kaggle\n",
        "url = 'https://raw.githubusercontent.com/edwardb1203/GoogleSunroofML/main/sunroof_solar_potential_by_censustract.csv'\n",
        "# url_city_data = 'https://raw.githubusercontent.com/edwardb1203/GoogleSunroofML/main/project-sunroof-city-09082017.csv'\n",
        "df=pd.read_csv(url)\n",
        "# Let's take a look at the data\n",
        "df.head()"
      ],
      "metadata": {
        "colab": {
          "base_uri": "https://localhost:8080/",
          "height": 386
        },
        "id": "8bGJ9Rkrvls2",
        "outputId": "e2d098f1-795a-40d5-ce45-1a6403c9403a"
      },
      "execution_count": null,
      "outputs": [
        {
          "output_type": "execute_result",
          "data": {
            "text/plain": [
              "   carbon_offset_metric_tons  count_qualified  existing_installs_count  \\\n",
              "0                2159.887389              586                       12   \n",
              "1               11392.316227              369                        4   \n",
              "2                6902.286133              788                        3   \n",
              "3                3238.933474              432                        1   \n",
              "4                6111.873688              827                       32   \n",
              "\n",
              "                             install_size_kw_buckets  kw_median  kw_total  \\\n",
              "0  [[0171][5231][10114][1545][2016][252][352][451...       7.25   5219.00   \n",
              "1  [[060][550][1024][1518][2023][2515][3012][3515...      28.00  28391.25   \n",
              "2  [[0364][5313][1057][1513][207][258][305][351][...       5.25   7352.25   \n",
              "3  [[0320][567][1020][1512][251][302][351][401][4...       3.25   3598.25   \n",
              "4  [[0125][5219][10227][15124][2039][2520][3015][...      11.50  15098.50   \n",
              "\n",
              "     lat_avg    lat_max    lat_min     lng_avg  ...  region_name  \\\n",
              "0  34.267040  34.272362  34.261761 -118.432716  ...   6037104401   \n",
              "1  43.156368  43.162289  43.150970  -77.607040  ...  36055009400   \n",
              "2  42.277794  42.288818  42.266918  -89.066589  ...  17201000700   \n",
              "3  40.422962  40.428940  40.418259  -79.993729  ...  42003180300   \n",
              "4  33.844044  33.847179  33.839771 -117.933113  ...   6059086602   \n",
              "\n",
              "     state_name  yearly_sunlight_kwh_e  yearly_sunlight_kwh_f  \\\n",
              "0    California           1.014756e+06           2.539152e+06   \n",
              "1      New York           7.338827e+05           2.815855e+07   \n",
              "2      Illinois           1.024630e+06           2.850205e+06   \n",
              "3  Pennsylvania           1.203715e+06           1.432569e+06   \n",
              "4    California           2.070519e+06           1.183461e+07   \n",
              "\n",
              "   yearly_sunlight_kwh_kw_threshold_avg  yearly_sunlight_kwh_median  \\\n",
              "0                           1285.247909                10863.017950   \n",
              "1                            947.750000                30689.598633   \n",
              "2                            980.050000                 5823.500452   \n",
              "3                            948.600000                 3724.817041   \n",
              "4                           1260.550000                16996.447681   \n",
              "\n",
              "   yearly_sunlight_kwh_n  yearly_sunlight_kwh_s  yearly_sunlight_kwh_total  \\\n",
              "0           1.075291e+06           1.760043e+06               7.922383e+06   \n",
              "1           1.739810e+05           1.342966e+06               3.117606e+07   \n",
              "2           1.342642e+05           3.155397e+06               8.337565e+06   \n",
              "3           7.318190e+04           7.604248e+05               3.912445e+06   \n",
              "4           1.691435e+06           3.551939e+06               2.241812e+07   \n",
              "\n",
              "   yearly_sunlight_kwh_w  \n",
              "0           1.533140e+06  \n",
              "1           7.666855e+05  \n",
              "2           1.173068e+06  \n",
              "3           4.425539e+05  \n",
              "4           3.269615e+06  \n",
              "\n",
              "[5 rows x 31 columns]"
            ],
            "text/html": [
              "\n",
              "  <div id=\"df-4df87dae-a16b-401b-8c1f-46d2a0baae14\">\n",
              "    <div class=\"colab-df-container\">\n",
              "      <div>\n",
              "<style scoped>\n",
              "    .dataframe tbody tr th:only-of-type {\n",
              "        vertical-align: middle;\n",
              "    }\n",
              "\n",
              "    .dataframe tbody tr th {\n",
              "        vertical-align: top;\n",
              "    }\n",
              "\n",
              "    .dataframe thead th {\n",
              "        text-align: right;\n",
              "    }\n",
              "</style>\n",
              "<table border=\"1\" class=\"dataframe\">\n",
              "  <thead>\n",
              "    <tr style=\"text-align: right;\">\n",
              "      <th></th>\n",
              "      <th>carbon_offset_metric_tons</th>\n",
              "      <th>count_qualified</th>\n",
              "      <th>existing_installs_count</th>\n",
              "      <th>install_size_kw_buckets</th>\n",
              "      <th>kw_median</th>\n",
              "      <th>kw_total</th>\n",
              "      <th>lat_avg</th>\n",
              "      <th>lat_max</th>\n",
              "      <th>lat_min</th>\n",
              "      <th>lng_avg</th>\n",
              "      <th>...</th>\n",
              "      <th>region_name</th>\n",
              "      <th>state_name</th>\n",
              "      <th>yearly_sunlight_kwh_e</th>\n",
              "      <th>yearly_sunlight_kwh_f</th>\n",
              "      <th>yearly_sunlight_kwh_kw_threshold_avg</th>\n",
              "      <th>yearly_sunlight_kwh_median</th>\n",
              "      <th>yearly_sunlight_kwh_n</th>\n",
              "      <th>yearly_sunlight_kwh_s</th>\n",
              "      <th>yearly_sunlight_kwh_total</th>\n",
              "      <th>yearly_sunlight_kwh_w</th>\n",
              "    </tr>\n",
              "  </thead>\n",
              "  <tbody>\n",
              "    <tr>\n",
              "      <th>0</th>\n",
              "      <td>2159.887389</td>\n",
              "      <td>586</td>\n",
              "      <td>12</td>\n",
              "      <td>[[0171][5231][10114][1545][2016][252][352][451...</td>\n",
              "      <td>7.25</td>\n",
              "      <td>5219.00</td>\n",
              "      <td>34.267040</td>\n",
              "      <td>34.272362</td>\n",
              "      <td>34.261761</td>\n",
              "      <td>-118.432716</td>\n",
              "      <td>...</td>\n",
              "      <td>6037104401</td>\n",
              "      <td>California</td>\n",
              "      <td>1.014756e+06</td>\n",
              "      <td>2.539152e+06</td>\n",
              "      <td>1285.247909</td>\n",
              "      <td>10863.017950</td>\n",
              "      <td>1.075291e+06</td>\n",
              "      <td>1.760043e+06</td>\n",
              "      <td>7.922383e+06</td>\n",
              "      <td>1.533140e+06</td>\n",
              "    </tr>\n",
              "    <tr>\n",
              "      <th>1</th>\n",
              "      <td>11392.316227</td>\n",
              "      <td>369</td>\n",
              "      <td>4</td>\n",
              "      <td>[[060][550][1024][1518][2023][2515][3012][3515...</td>\n",
              "      <td>28.00</td>\n",
              "      <td>28391.25</td>\n",
              "      <td>43.156368</td>\n",
              "      <td>43.162289</td>\n",
              "      <td>43.150970</td>\n",
              "      <td>-77.607040</td>\n",
              "      <td>...</td>\n",
              "      <td>36055009400</td>\n",
              "      <td>New York</td>\n",
              "      <td>7.338827e+05</td>\n",
              "      <td>2.815855e+07</td>\n",
              "      <td>947.750000</td>\n",
              "      <td>30689.598633</td>\n",
              "      <td>1.739810e+05</td>\n",
              "      <td>1.342966e+06</td>\n",
              "      <td>3.117606e+07</td>\n",
              "      <td>7.666855e+05</td>\n",
              "    </tr>\n",
              "    <tr>\n",
              "      <th>2</th>\n",
              "      <td>6902.286133</td>\n",
              "      <td>788</td>\n",
              "      <td>3</td>\n",
              "      <td>[[0364][5313][1057][1513][207][258][305][351][...</td>\n",
              "      <td>5.25</td>\n",
              "      <td>7352.25</td>\n",
              "      <td>42.277794</td>\n",
              "      <td>42.288818</td>\n",
              "      <td>42.266918</td>\n",
              "      <td>-89.066589</td>\n",
              "      <td>...</td>\n",
              "      <td>17201000700</td>\n",
              "      <td>Illinois</td>\n",
              "      <td>1.024630e+06</td>\n",
              "      <td>2.850205e+06</td>\n",
              "      <td>980.050000</td>\n",
              "      <td>5823.500452</td>\n",
              "      <td>1.342642e+05</td>\n",
              "      <td>3.155397e+06</td>\n",
              "      <td>8.337565e+06</td>\n",
              "      <td>1.173068e+06</td>\n",
              "    </tr>\n",
              "    <tr>\n",
              "      <th>3</th>\n",
              "      <td>3238.933474</td>\n",
              "      <td>432</td>\n",
              "      <td>1</td>\n",
              "      <td>[[0320][567][1020][1512][251][302][351][401][4...</td>\n",
              "      <td>3.25</td>\n",
              "      <td>3598.25</td>\n",
              "      <td>40.422962</td>\n",
              "      <td>40.428940</td>\n",
              "      <td>40.418259</td>\n",
              "      <td>-79.993729</td>\n",
              "      <td>...</td>\n",
              "      <td>42003180300</td>\n",
              "      <td>Pennsylvania</td>\n",
              "      <td>1.203715e+06</td>\n",
              "      <td>1.432569e+06</td>\n",
              "      <td>948.600000</td>\n",
              "      <td>3724.817041</td>\n",
              "      <td>7.318190e+04</td>\n",
              "      <td>7.604248e+05</td>\n",
              "      <td>3.912445e+06</td>\n",
              "      <td>4.425539e+05</td>\n",
              "    </tr>\n",
              "    <tr>\n",
              "      <th>4</th>\n",
              "      <td>6111.873688</td>\n",
              "      <td>827</td>\n",
              "      <td>32</td>\n",
              "      <td>[[0125][5219][10227][15124][2039][2520][3015][...</td>\n",
              "      <td>11.50</td>\n",
              "      <td>15098.50</td>\n",
              "      <td>33.844044</td>\n",
              "      <td>33.847179</td>\n",
              "      <td>33.839771</td>\n",
              "      <td>-117.933113</td>\n",
              "      <td>...</td>\n",
              "      <td>6059086602</td>\n",
              "      <td>California</td>\n",
              "      <td>2.070519e+06</td>\n",
              "      <td>1.183461e+07</td>\n",
              "      <td>1260.550000</td>\n",
              "      <td>16996.447681</td>\n",
              "      <td>1.691435e+06</td>\n",
              "      <td>3.551939e+06</td>\n",
              "      <td>2.241812e+07</td>\n",
              "      <td>3.269615e+06</td>\n",
              "    </tr>\n",
              "  </tbody>\n",
              "</table>\n",
              "<p>5 rows × 31 columns</p>\n",
              "</div>\n",
              "      <button class=\"colab-df-convert\" onclick=\"convertToInteractive('df-4df87dae-a16b-401b-8c1f-46d2a0baae14')\"\n",
              "              title=\"Convert this dataframe to an interactive table.\"\n",
              "              style=\"display:none;\">\n",
              "        \n",
              "  <svg xmlns=\"http://www.w3.org/2000/svg\" height=\"24px\"viewBox=\"0 0 24 24\"\n",
              "       width=\"24px\">\n",
              "    <path d=\"M0 0h24v24H0V0z\" fill=\"none\"/>\n",
              "    <path d=\"M18.56 5.44l.94 2.06.94-2.06 2.06-.94-2.06-.94-.94-2.06-.94 2.06-2.06.94zm-11 1L8.5 8.5l.94-2.06 2.06-.94-2.06-.94L8.5 2.5l-.94 2.06-2.06.94zm10 10l.94 2.06.94-2.06 2.06-.94-2.06-.94-.94-2.06-.94 2.06-2.06.94z\"/><path d=\"M17.41 7.96l-1.37-1.37c-.4-.4-.92-.59-1.43-.59-.52 0-1.04.2-1.43.59L10.3 9.45l-7.72 7.72c-.78.78-.78 2.05 0 2.83L4 21.41c.39.39.9.59 1.41.59.51 0 1.02-.2 1.41-.59l7.78-7.78 2.81-2.81c.8-.78.8-2.07 0-2.86zM5.41 20L4 18.59l7.72-7.72 1.47 1.35L5.41 20z\"/>\n",
              "  </svg>\n",
              "      </button>\n",
              "      \n",
              "  <style>\n",
              "    .colab-df-container {\n",
              "      display:flex;\n",
              "      flex-wrap:wrap;\n",
              "      gap: 12px;\n",
              "    }\n",
              "\n",
              "    .colab-df-convert {\n",
              "      background-color: #E8F0FE;\n",
              "      border: none;\n",
              "      border-radius: 50%;\n",
              "      cursor: pointer;\n",
              "      display: none;\n",
              "      fill: #1967D2;\n",
              "      height: 32px;\n",
              "      padding: 0 0 0 0;\n",
              "      width: 32px;\n",
              "    }\n",
              "\n",
              "    .colab-df-convert:hover {\n",
              "      background-color: #E2EBFA;\n",
              "      box-shadow: 0px 1px 2px rgba(60, 64, 67, 0.3), 0px 1px 3px 1px rgba(60, 64, 67, 0.15);\n",
              "      fill: #174EA6;\n",
              "    }\n",
              "\n",
              "    [theme=dark] .colab-df-convert {\n",
              "      background-color: #3B4455;\n",
              "      fill: #D2E3FC;\n",
              "    }\n",
              "\n",
              "    [theme=dark] .colab-df-convert:hover {\n",
              "      background-color: #434B5C;\n",
              "      box-shadow: 0px 1px 3px 1px rgba(0, 0, 0, 0.15);\n",
              "      filter: drop-shadow(0px 1px 2px rgba(0, 0, 0, 0.3));\n",
              "      fill: #FFFFFF;\n",
              "    }\n",
              "  </style>\n",
              "\n",
              "      <script>\n",
              "        const buttonEl =\n",
              "          document.querySelector('#df-4df87dae-a16b-401b-8c1f-46d2a0baae14 button.colab-df-convert');\n",
              "        buttonEl.style.display =\n",
              "          google.colab.kernel.accessAllowed ? 'block' : 'none';\n",
              "\n",
              "        async function convertToInteractive(key) {\n",
              "          const element = document.querySelector('#df-4df87dae-a16b-401b-8c1f-46d2a0baae14');\n",
              "          const dataTable =\n",
              "            await google.colab.kernel.invokeFunction('convertToInteractive',\n",
              "                                                     [key], {});\n",
              "          if (!dataTable) return;\n",
              "\n",
              "          const docLinkHtml = 'Like what you see? Visit the ' +\n",
              "            '<a target=\"_blank\" href=https://colab.research.google.com/notebooks/data_table.ipynb>data table notebook</a>'\n",
              "            + ' to learn more about interactive tables.';\n",
              "          element.innerHTML = '';\n",
              "          dataTable['output_type'] = 'display_data';\n",
              "          await google.colab.output.renderOutput(dataTable, element);\n",
              "          const docLink = document.createElement('div');\n",
              "          docLink.innerHTML = docLinkHtml;\n",
              "          element.appendChild(docLink);\n",
              "        }\n",
              "      </script>\n",
              "    </div>\n",
              "  </div>\n",
              "  "
            ]
          },
          "metadata": {},
          "execution_count": 38
        }
      ]
    },
    {
      "cell_type": "code",
      "source": [
        "df.describe()"
      ],
      "metadata": {
        "colab": {
          "base_uri": "https://localhost:8080/",
          "height": 394
        },
        "id": "a90YRR1Fz3Dg",
        "outputId": "b53693c1-554b-4689-e6c7-816794969b0c"
      },
      "execution_count": null,
      "outputs": [
        {
          "output_type": "execute_result",
          "data": {
            "text/plain": [
              "       carbon_offset_metric_tons  count_qualified  existing_installs_count  \\\n",
              "count               48722.000000     48722.000000             48722.000000   \n",
              "mean                11743.750532       955.748840                13.809203   \n",
              "std                 12457.365528       709.308009                36.795430   \n",
              "min                     0.000000         0.000000                 0.000000   \n",
              "25%                  4097.426913       455.000000                 0.000000   \n",
              "50%                  8215.046881       841.000000                 2.000000   \n",
              "75%                 15245.210049      1305.000000                 9.000000   \n",
              "max                347200.877549     17177.000000               847.000000   \n",
              "\n",
              "          kw_median       kw_total       lat_avg       lat_max       lat_min  \\\n",
              "count  48664.000000   48664.000000  48722.000000  48722.000000  48722.000000   \n",
              "mean      10.288987   17120.909466     37.457266     37.473969     37.440494   \n",
              "std       19.902333   16630.081810      5.070044      5.069354      5.070830   \n",
              "min        2.000000       2.000000     19.560486     19.602310     19.406630   \n",
              "25%        6.000000    6787.375000     33.838716     33.853292     33.824902   \n",
              "50%        8.000000   13230.625000     38.442801     38.465385     38.421844   \n",
              "75%       10.750000   22290.687500     41.189430     41.205283     41.175228   \n",
              "max     1000.000000  386462.500000     64.988930     65.454468     64.848373   \n",
              "\n",
              "            lng_avg       lng_max  ...  percent_qualified   region_name  \\\n",
              "count  48722.000000  48722.000000  ...       48722.000000  4.872200e+04   \n",
              "mean     -93.012390    -92.990561  ...          77.411231  2.667656e+10   \n",
              "std       17.128056     17.127137  ...          15.712845  1.619133e+10   \n",
              "min     -158.124237   -158.113037  ...           0.000000  1.001020e+09   \n",
              "25%     -106.347076   -106.326199  ...          67.958288  1.203102e+10   \n",
              "50%      -87.684162    -87.675159  ...          79.803761  2.616350e+10   \n",
              "75%      -80.181004    -80.167238  ...          89.855072  4.010911e+10   \n",
              "max      -68.268173    -68.154678  ...         100.000000  5.603997e+10   \n",
              "\n",
              "       yearly_sunlight_kwh_e  yearly_sunlight_kwh_f  \\\n",
              "count           4.872200e+04           4.872200e+04   \n",
              "mean            2.756762e+06           1.026128e+07   \n",
              "std             2.894289e+06           1.649937e+07   \n",
              "min             0.000000e+00           0.000000e+00   \n",
              "25%             8.217493e+05           2.574992e+06   \n",
              "50%             1.990558e+06           5.654003e+06   \n",
              "75%             3.746513e+06           1.193314e+07   \n",
              "max             6.395091e+07           5.196147e+08   \n",
              "\n",
              "       yearly_sunlight_kwh_kw_threshold_avg  yearly_sunlight_kwh_median  \\\n",
              "count                          48721.000000                4.866400e+04   \n",
              "mean                            1092.248343                1.325723e+04   \n",
              "std                              133.631305                2.560913e+04   \n",
              "min                              727.909091                1.979426e+03   \n",
              "25%                              989.400000                7.198405e+03   \n",
              "50%                             1070.150000                1.007060e+04   \n",
              "75%                             1176.400000                1.436447e+04   \n",
              "max                             1448.400000                1.361346e+06   \n",
              "\n",
              "       yearly_sunlight_kwh_n  yearly_sunlight_kwh_s  \\\n",
              "count           4.872200e+04           4.872200e+04   \n",
              "mean            1.127443e+06           4.693428e+06   \n",
              "std             1.463548e+06           4.546479e+06   \n",
              "min             0.000000e+00           0.000000e+00   \n",
              "25%             1.690452e+05           1.651416e+06   \n",
              "50%             6.111209e+05           3.567568e+06   \n",
              "75%             1.540125e+06           6.373550e+06   \n",
              "max             3.071430e+07           9.074464e+07   \n",
              "\n",
              "       yearly_sunlight_kwh_total  yearly_sunlight_kwh_w  \n",
              "count               4.866400e+04           4.872200e+04  \n",
              "mean                2.234360e+07           3.478096e+06  \n",
              "std                 2.262537e+07           3.620384e+06  \n",
              "min                 2.178341e+03           0.000000e+00  \n",
              "25%                 8.361908e+06           1.057562e+06  \n",
              "50%                 1.686481e+07           2.539494e+06  \n",
              "75%                 2.916793e+07           4.720183e+06  \n",
              "max                 5.339304e+08           6.821920e+07  \n",
              "\n",
              "[8 rows x 29 columns]"
            ],
            "text/html": [
              "\n",
              "  <div id=\"df-f872d941-8da6-425d-a42b-23cc738c69c2\">\n",
              "    <div class=\"colab-df-container\">\n",
              "      <div>\n",
              "<style scoped>\n",
              "    .dataframe tbody tr th:only-of-type {\n",
              "        vertical-align: middle;\n",
              "    }\n",
              "\n",
              "    .dataframe tbody tr th {\n",
              "        vertical-align: top;\n",
              "    }\n",
              "\n",
              "    .dataframe thead th {\n",
              "        text-align: right;\n",
              "    }\n",
              "</style>\n",
              "<table border=\"1\" class=\"dataframe\">\n",
              "  <thead>\n",
              "    <tr style=\"text-align: right;\">\n",
              "      <th></th>\n",
              "      <th>carbon_offset_metric_tons</th>\n",
              "      <th>count_qualified</th>\n",
              "      <th>existing_installs_count</th>\n",
              "      <th>kw_median</th>\n",
              "      <th>kw_total</th>\n",
              "      <th>lat_avg</th>\n",
              "      <th>lat_max</th>\n",
              "      <th>lat_min</th>\n",
              "      <th>lng_avg</th>\n",
              "      <th>lng_max</th>\n",
              "      <th>...</th>\n",
              "      <th>percent_qualified</th>\n",
              "      <th>region_name</th>\n",
              "      <th>yearly_sunlight_kwh_e</th>\n",
              "      <th>yearly_sunlight_kwh_f</th>\n",
              "      <th>yearly_sunlight_kwh_kw_threshold_avg</th>\n",
              "      <th>yearly_sunlight_kwh_median</th>\n",
              "      <th>yearly_sunlight_kwh_n</th>\n",
              "      <th>yearly_sunlight_kwh_s</th>\n",
              "      <th>yearly_sunlight_kwh_total</th>\n",
              "      <th>yearly_sunlight_kwh_w</th>\n",
              "    </tr>\n",
              "  </thead>\n",
              "  <tbody>\n",
              "    <tr>\n",
              "      <th>count</th>\n",
              "      <td>48722.000000</td>\n",
              "      <td>48722.000000</td>\n",
              "      <td>48722.000000</td>\n",
              "      <td>48664.000000</td>\n",
              "      <td>48664.000000</td>\n",
              "      <td>48722.000000</td>\n",
              "      <td>48722.000000</td>\n",
              "      <td>48722.000000</td>\n",
              "      <td>48722.000000</td>\n",
              "      <td>48722.000000</td>\n",
              "      <td>...</td>\n",
              "      <td>48722.000000</td>\n",
              "      <td>4.872200e+04</td>\n",
              "      <td>4.872200e+04</td>\n",
              "      <td>4.872200e+04</td>\n",
              "      <td>48721.000000</td>\n",
              "      <td>4.866400e+04</td>\n",
              "      <td>4.872200e+04</td>\n",
              "      <td>4.872200e+04</td>\n",
              "      <td>4.866400e+04</td>\n",
              "      <td>4.872200e+04</td>\n",
              "    </tr>\n",
              "    <tr>\n",
              "      <th>mean</th>\n",
              "      <td>11743.750532</td>\n",
              "      <td>955.748840</td>\n",
              "      <td>13.809203</td>\n",
              "      <td>10.288987</td>\n",
              "      <td>17120.909466</td>\n",
              "      <td>37.457266</td>\n",
              "      <td>37.473969</td>\n",
              "      <td>37.440494</td>\n",
              "      <td>-93.012390</td>\n",
              "      <td>-92.990561</td>\n",
              "      <td>...</td>\n",
              "      <td>77.411231</td>\n",
              "      <td>2.667656e+10</td>\n",
              "      <td>2.756762e+06</td>\n",
              "      <td>1.026128e+07</td>\n",
              "      <td>1092.248343</td>\n",
              "      <td>1.325723e+04</td>\n",
              "      <td>1.127443e+06</td>\n",
              "      <td>4.693428e+06</td>\n",
              "      <td>2.234360e+07</td>\n",
              "      <td>3.478096e+06</td>\n",
              "    </tr>\n",
              "    <tr>\n",
              "      <th>std</th>\n",
              "      <td>12457.365528</td>\n",
              "      <td>709.308009</td>\n",
              "      <td>36.795430</td>\n",
              "      <td>19.902333</td>\n",
              "      <td>16630.081810</td>\n",
              "      <td>5.070044</td>\n",
              "      <td>5.069354</td>\n",
              "      <td>5.070830</td>\n",
              "      <td>17.128056</td>\n",
              "      <td>17.127137</td>\n",
              "      <td>...</td>\n",
              "      <td>15.712845</td>\n",
              "      <td>1.619133e+10</td>\n",
              "      <td>2.894289e+06</td>\n",
              "      <td>1.649937e+07</td>\n",
              "      <td>133.631305</td>\n",
              "      <td>2.560913e+04</td>\n",
              "      <td>1.463548e+06</td>\n",
              "      <td>4.546479e+06</td>\n",
              "      <td>2.262537e+07</td>\n",
              "      <td>3.620384e+06</td>\n",
              "    </tr>\n",
              "    <tr>\n",
              "      <th>min</th>\n",
              "      <td>0.000000</td>\n",
              "      <td>0.000000</td>\n",
              "      <td>0.000000</td>\n",
              "      <td>2.000000</td>\n",
              "      <td>2.000000</td>\n",
              "      <td>19.560486</td>\n",
              "      <td>19.602310</td>\n",
              "      <td>19.406630</td>\n",
              "      <td>-158.124237</td>\n",
              "      <td>-158.113037</td>\n",
              "      <td>...</td>\n",
              "      <td>0.000000</td>\n",
              "      <td>1.001020e+09</td>\n",
              "      <td>0.000000e+00</td>\n",
              "      <td>0.000000e+00</td>\n",
              "      <td>727.909091</td>\n",
              "      <td>1.979426e+03</td>\n",
              "      <td>0.000000e+00</td>\n",
              "      <td>0.000000e+00</td>\n",
              "      <td>2.178341e+03</td>\n",
              "      <td>0.000000e+00</td>\n",
              "    </tr>\n",
              "    <tr>\n",
              "      <th>25%</th>\n",
              "      <td>4097.426913</td>\n",
              "      <td>455.000000</td>\n",
              "      <td>0.000000</td>\n",
              "      <td>6.000000</td>\n",
              "      <td>6787.375000</td>\n",
              "      <td>33.838716</td>\n",
              "      <td>33.853292</td>\n",
              "      <td>33.824902</td>\n",
              "      <td>-106.347076</td>\n",
              "      <td>-106.326199</td>\n",
              "      <td>...</td>\n",
              "      <td>67.958288</td>\n",
              "      <td>1.203102e+10</td>\n",
              "      <td>8.217493e+05</td>\n",
              "      <td>2.574992e+06</td>\n",
              "      <td>989.400000</td>\n",
              "      <td>7.198405e+03</td>\n",
              "      <td>1.690452e+05</td>\n",
              "      <td>1.651416e+06</td>\n",
              "      <td>8.361908e+06</td>\n",
              "      <td>1.057562e+06</td>\n",
              "    </tr>\n",
              "    <tr>\n",
              "      <th>50%</th>\n",
              "      <td>8215.046881</td>\n",
              "      <td>841.000000</td>\n",
              "      <td>2.000000</td>\n",
              "      <td>8.000000</td>\n",
              "      <td>13230.625000</td>\n",
              "      <td>38.442801</td>\n",
              "      <td>38.465385</td>\n",
              "      <td>38.421844</td>\n",
              "      <td>-87.684162</td>\n",
              "      <td>-87.675159</td>\n",
              "      <td>...</td>\n",
              "      <td>79.803761</td>\n",
              "      <td>2.616350e+10</td>\n",
              "      <td>1.990558e+06</td>\n",
              "      <td>5.654003e+06</td>\n",
              "      <td>1070.150000</td>\n",
              "      <td>1.007060e+04</td>\n",
              "      <td>6.111209e+05</td>\n",
              "      <td>3.567568e+06</td>\n",
              "      <td>1.686481e+07</td>\n",
              "      <td>2.539494e+06</td>\n",
              "    </tr>\n",
              "    <tr>\n",
              "      <th>75%</th>\n",
              "      <td>15245.210049</td>\n",
              "      <td>1305.000000</td>\n",
              "      <td>9.000000</td>\n",
              "      <td>10.750000</td>\n",
              "      <td>22290.687500</td>\n",
              "      <td>41.189430</td>\n",
              "      <td>41.205283</td>\n",
              "      <td>41.175228</td>\n",
              "      <td>-80.181004</td>\n",
              "      <td>-80.167238</td>\n",
              "      <td>...</td>\n",
              "      <td>89.855072</td>\n",
              "      <td>4.010911e+10</td>\n",
              "      <td>3.746513e+06</td>\n",
              "      <td>1.193314e+07</td>\n",
              "      <td>1176.400000</td>\n",
              "      <td>1.436447e+04</td>\n",
              "      <td>1.540125e+06</td>\n",
              "      <td>6.373550e+06</td>\n",
              "      <td>2.916793e+07</td>\n",
              "      <td>4.720183e+06</td>\n",
              "    </tr>\n",
              "    <tr>\n",
              "      <th>max</th>\n",
              "      <td>347200.877549</td>\n",
              "      <td>17177.000000</td>\n",
              "      <td>847.000000</td>\n",
              "      <td>1000.000000</td>\n",
              "      <td>386462.500000</td>\n",
              "      <td>64.988930</td>\n",
              "      <td>65.454468</td>\n",
              "      <td>64.848373</td>\n",
              "      <td>-68.268173</td>\n",
              "      <td>-68.154678</td>\n",
              "      <td>...</td>\n",
              "      <td>100.000000</td>\n",
              "      <td>5.603997e+10</td>\n",
              "      <td>6.395091e+07</td>\n",
              "      <td>5.196147e+08</td>\n",
              "      <td>1448.400000</td>\n",
              "      <td>1.361346e+06</td>\n",
              "      <td>3.071430e+07</td>\n",
              "      <td>9.074464e+07</td>\n",
              "      <td>5.339304e+08</td>\n",
              "      <td>6.821920e+07</td>\n",
              "    </tr>\n",
              "  </tbody>\n",
              "</table>\n",
              "<p>8 rows × 29 columns</p>\n",
              "</div>\n",
              "      <button class=\"colab-df-convert\" onclick=\"convertToInteractive('df-f872d941-8da6-425d-a42b-23cc738c69c2')\"\n",
              "              title=\"Convert this dataframe to an interactive table.\"\n",
              "              style=\"display:none;\">\n",
              "        \n",
              "  <svg xmlns=\"http://www.w3.org/2000/svg\" height=\"24px\"viewBox=\"0 0 24 24\"\n",
              "       width=\"24px\">\n",
              "    <path d=\"M0 0h24v24H0V0z\" fill=\"none\"/>\n",
              "    <path d=\"M18.56 5.44l.94 2.06.94-2.06 2.06-.94-2.06-.94-.94-2.06-.94 2.06-2.06.94zm-11 1L8.5 8.5l.94-2.06 2.06-.94-2.06-.94L8.5 2.5l-.94 2.06-2.06.94zm10 10l.94 2.06.94-2.06 2.06-.94-2.06-.94-.94-2.06-.94 2.06-2.06.94z\"/><path d=\"M17.41 7.96l-1.37-1.37c-.4-.4-.92-.59-1.43-.59-.52 0-1.04.2-1.43.59L10.3 9.45l-7.72 7.72c-.78.78-.78 2.05 0 2.83L4 21.41c.39.39.9.59 1.41.59.51 0 1.02-.2 1.41-.59l7.78-7.78 2.81-2.81c.8-.78.8-2.07 0-2.86zM5.41 20L4 18.59l7.72-7.72 1.47 1.35L5.41 20z\"/>\n",
              "  </svg>\n",
              "      </button>\n",
              "      \n",
              "  <style>\n",
              "    .colab-df-container {\n",
              "      display:flex;\n",
              "      flex-wrap:wrap;\n",
              "      gap: 12px;\n",
              "    }\n",
              "\n",
              "    .colab-df-convert {\n",
              "      background-color: #E8F0FE;\n",
              "      border: none;\n",
              "      border-radius: 50%;\n",
              "      cursor: pointer;\n",
              "      display: none;\n",
              "      fill: #1967D2;\n",
              "      height: 32px;\n",
              "      padding: 0 0 0 0;\n",
              "      width: 32px;\n",
              "    }\n",
              "\n",
              "    .colab-df-convert:hover {\n",
              "      background-color: #E2EBFA;\n",
              "      box-shadow: 0px 1px 2px rgba(60, 64, 67, 0.3), 0px 1px 3px 1px rgba(60, 64, 67, 0.15);\n",
              "      fill: #174EA6;\n",
              "    }\n",
              "\n",
              "    [theme=dark] .colab-df-convert {\n",
              "      background-color: #3B4455;\n",
              "      fill: #D2E3FC;\n",
              "    }\n",
              "\n",
              "    [theme=dark] .colab-df-convert:hover {\n",
              "      background-color: #434B5C;\n",
              "      box-shadow: 0px 1px 3px 1px rgba(0, 0, 0, 0.15);\n",
              "      filter: drop-shadow(0px 1px 2px rgba(0, 0, 0, 0.3));\n",
              "      fill: #FFFFFF;\n",
              "    }\n",
              "  </style>\n",
              "\n",
              "      <script>\n",
              "        const buttonEl =\n",
              "          document.querySelector('#df-f872d941-8da6-425d-a42b-23cc738c69c2 button.colab-df-convert');\n",
              "        buttonEl.style.display =\n",
              "          google.colab.kernel.accessAllowed ? 'block' : 'none';\n",
              "\n",
              "        async function convertToInteractive(key) {\n",
              "          const element = document.querySelector('#df-f872d941-8da6-425d-a42b-23cc738c69c2');\n",
              "          const dataTable =\n",
              "            await google.colab.kernel.invokeFunction('convertToInteractive',\n",
              "                                                     [key], {});\n",
              "          if (!dataTable) return;\n",
              "\n",
              "          const docLinkHtml = 'Like what you see? Visit the ' +\n",
              "            '<a target=\"_blank\" href=https://colab.research.google.com/notebooks/data_table.ipynb>data table notebook</a>'\n",
              "            + ' to learn more about interactive tables.';\n",
              "          element.innerHTML = '';\n",
              "          dataTable['output_type'] = 'display_data';\n",
              "          await google.colab.output.renderOutput(dataTable, element);\n",
              "          const docLink = document.createElement('div');\n",
              "          docLink.innerHTML = docLinkHtml;\n",
              "          element.appendChild(docLink);\n",
              "        }\n",
              "      </script>\n",
              "    </div>\n",
              "  </div>\n",
              "  "
            ]
          },
          "metadata": {},
          "execution_count": 39
        }
      ]
    },
    {
      "cell_type": "markdown",
      "source": [
        "The columns we want to consider are: \n",
        "<br> yearly_sunlight_kwh_kw_threshold_avg\n",
        "<br>yearly_sunlight_kwh_f\n",
        "<br>yearly_sunlight_kwh_n\n",
        "<br>yearly_sunlight_kwh_s\n",
        "<br>yearly_sunlight_kwh_e\n",
        "<br>yearly_sunlight_kwh_w\n",
        "<br>number_of_panels_f\n",
        "<br>number_of_panels_n\n",
        "<br>number_of_panels_s\n",
        "<br>number_of_panels_e\n",
        "<br>number_of_panels_w\n",
        "<br>lat_avg \n",
        "<br> lng_avg\n",
        "<br>kw_total"
      ],
      "metadata": {
        "id": "9lAN9MRYzxDx"
      }
    },
    {
      "cell_type": "code",
      "source": [
        "plt.figure(figsize=(12,4))\n",
        "sns.heatmap(df.isnull(),cbar=False,cmap='viridis',yticklabels=False)\n",
        "plt.title('Missing value in the dataset');"
      ],
      "metadata": {
        "colab": {
          "base_uri": "https://localhost:8080/",
          "height": 467
        },
        "id": "Ugmp_K2WsthP",
        "outputId": "ee60f28a-a27d-445b-dbba-c50e60c4e865"
      },
      "execution_count": null,
      "outputs": [
        {
          "output_type": "display_data",
          "data": {
            "text/plain": [
              "<Figure size 864x288 with 1 Axes>"
            ],
            "image/png": "[encoded data removed]"
          },
          "metadata": {
            "needs_background": "light"
          }
        }
      ]
    },
    {
      "cell_type": "markdown",
      "source": [
        "It looks like there are a few missing values"
      ],
      "metadata": {
        "id": "Dm7J7VNIs_c-"
      }
    },
    {
      "cell_type": "code",
      "source": [
        "# Let's clean our data\n",
        "# A function to determine location and amount of missing values\n",
        "def missing_value(df):\n",
        "    percent_missing = df.isnull().sum() * 100 / len(df)\n",
        "    q = list(percent_missing)\n",
        "    missing_value_df = pd.DataFrame({'Column Name': df.columns, 'Percent Missing % ': q})\n",
        "    # I only want to see the missing values\n",
        "    return missing_value_df.loc[missing_value_df['Percent Missing % '] > 0]"
      ],
      "metadata": {
        "id": "M-BnsS1DvP5w"
      },
      "execution_count": null,
      "outputs": []
    },
    {
      "cell_type": "code",
      "source": [
        "# Let's take a look\n",
        "missing_value(df)"
      ],
      "metadata": {
        "colab": {
          "base_uri": "https://localhost:8080/",
          "height": 332
        },
        "id": "MZlWScgxvQJm",
        "outputId": "cc908cb3-9405-4a55-91cb-dcd3c0f5f5ed"
      },
      "execution_count": null,
      "outputs": [
        {
          "output_type": "execute_result",
          "data": {
            "text/plain": [
              "                             Column Name  Percent Missing % \n",
              "3                install_size_kw_buckets            0.119043\n",
              "4                              kw_median            0.119043\n",
              "5                               kw_total            0.119043\n",
              "14               number_of_panels_median            0.119043\n",
              "17                number_of_panels_total            0.119043\n",
              "22                            state_name            0.002052\n",
              "25  yearly_sunlight_kwh_kw_threshold_avg            0.002052\n",
              "26            yearly_sunlight_kwh_median            0.119043\n",
              "29             yearly_sunlight_kwh_total            0.119043"
            ],
            "text/html": [
              "\n",
              "  <div id=\"df-42cf47aa-8304-4810-9ffe-ee7cfb7982b4\">\n",
              "    <div class=\"colab-df-container\">\n",
              "      <div>\n",
              "<style scoped>\n",
              "    .dataframe tbody tr th:only-of-type {\n",
              "        vertical-align: middle;\n",
              "    }\n",
              "\n",
              "    .dataframe tbody tr th {\n",
              "        vertical-align: top;\n",
              "    }\n",
              "\n",
              "    .dataframe thead th {\n",
              "        text-align: right;\n",
              "    }\n",
              "</style>\n",
              "<table border=\"1\" class=\"dataframe\">\n",
              "  <thead>\n",
              "    <tr style=\"text-align: right;\">\n",
              "      <th></th>\n",
              "      <th>Column Name</th>\n",
              "      <th>Percent Missing %</th>\n",
              "    </tr>\n",
              "  </thead>\n",
              "  <tbody>\n",
              "    <tr>\n",
              "      <th>3</th>\n",
              "      <td>install_size_kw_buckets</td>\n",
              "      <td>0.119043</td>\n",
              "    </tr>\n",
              "    <tr>\n",
              "      <th>4</th>\n",
              "      <td>kw_median</td>\n",
              "      <td>0.119043</td>\n",
              "    </tr>\n",
              "    <tr>\n",
              "      <th>5</th>\n",
              "      <td>kw_total</td>\n",
              "      <td>0.119043</td>\n",
              "    </tr>\n",
              "    <tr>\n",
              "      <th>14</th>\n",
              "      <td>number_of_panels_median</td>\n",
              "      <td>0.119043</td>\n",
              "    </tr>\n",
              "    <tr>\n",
              "      <th>17</th>\n",
              "      <td>number_of_panels_total</td>\n",
              "      <td>0.119043</td>\n",
              "    </tr>\n",
              "    <tr>\n",
              "      <th>22</th>\n",
              "      <td>state_name</td>\n",
              "      <td>0.002052</td>\n",
              "    </tr>\n",
              "    <tr>\n",
              "      <th>25</th>\n",
              "      <td>yearly_sunlight_kwh_kw_threshold_avg</td>\n",
              "      <td>0.002052</td>\n",
              "    </tr>\n",
              "    <tr>\n",
              "      <th>26</th>\n",
              "      <td>yearly_sunlight_kwh_median</td>\n",
              "      <td>0.119043</td>\n",
              "    </tr>\n",
              "    <tr>\n",
              "      <th>29</th>\n",
              "      <td>yearly_sunlight_kwh_total</td>\n",
              "      <td>0.119043</td>\n",
              "    </tr>\n",
              "  </tbody>\n",
              "</table>\n",
              "</div>\n",
              "      <button class=\"colab-df-convert\" onclick=\"convertToInteractive('df-42cf47aa-8304-4810-9ffe-ee7cfb7982b4')\"\n",
              "              title=\"Convert this dataframe to an interactive table.\"\n",
              "              style=\"display:none;\">\n",
              "        \n",
              "  <svg xmlns=\"http://www.w3.org/2000/svg\" height=\"24px\"viewBox=\"0 0 24 24\"\n",
              "       width=\"24px\">\n",
              "    <path d=\"M0 0h24v24H0V0z\" fill=\"none\"/>\n",
              "    <path d=\"M18.56 5.44l.94 2.06.94-2.06 2.06-.94-2.06-.94-.94-2.06-.94 2.06-2.06.94zm-11 1L8.5 8.5l.94-2.06 2.06-.94-2.06-.94L8.5 2.5l-.94 2.06-2.06.94zm10 10l.94 2.06.94-2.06 2.06-.94-2.06-.94-.94-2.06-.94 2.06-2.06.94z\"/><path d=\"M17.41 7.96l-1.37-1.37c-.4-.4-.92-.59-1.43-.59-.52 0-1.04.2-1.43.59L10.3 9.45l-7.72 7.72c-.78.78-.78 2.05 0 2.83L4 21.41c.39.39.9.59 1.41.59.51 0 1.02-.2 1.41-.59l7.78-7.78 2.81-2.81c.8-.78.8-2.07 0-2.86zM5.41 20L4 18.59l7.72-7.72 1.47 1.35L5.41 20z\"/>\n",
              "  </svg>\n",
              "      </button>\n",
              "      \n",
              "  <style>\n",
              "    .colab-df-container {\n",
              "      display:flex;\n",
              "      flex-wrap:wrap;\n",
              "      gap: 12px;\n",
              "    }\n",
              "\n",
              "    .colab-df-convert {\n",
              "      background-color: #E8F0FE;\n",
              "      border: none;\n",
              "      border-radius: 50%;\n",
              "      cursor: pointer;\n",
              "      display: none;\n",
              "      fill: #1967D2;\n",
              "      height: 32px;\n",
              "      padding: 0 0 0 0;\n",
              "      width: 32px;\n",
              "    }\n",
              "\n",
              "    .colab-df-convert:hover {\n",
              "      background-color: #E2EBFA;\n",
              "      box-shadow: 0px 1px 2px rgba(60, 64, 67, 0.3), 0px 1px 3px 1px rgba(60, 64, 67, 0.15);\n",
              "      fill: #174EA6;\n",
              "    }\n",
              "\n",
              "    [theme=dark] .colab-df-convert {\n",
              "      background-color: #3B4455;\n",
              "      fill: #D2E3FC;\n",
              "    }\n",
              "\n",
              "    [theme=dark] .colab-df-convert:hover {\n",
              "      background-color: #434B5C;\n",
              "      box-shadow: 0px 1px 3px 1px rgba(0, 0, 0, 0.15);\n",
              "      filter: drop-shadow(0px 1px 2px rgba(0, 0, 0, 0.3));\n",
              "      fill: #FFFFFF;\n",
              "    }\n",
              "  </style>\n",
              "\n",
              "      <script>\n",
              "        const buttonEl =\n",
              "          document.querySelector('#df-42cf47aa-8304-4810-9ffe-ee7cfb7982b4 button.colab-df-convert');\n",
              "        buttonEl.style.display =\n",
              "          google.colab.kernel.accessAllowed ? 'block' : 'none';\n",
              "\n",
              "        async function convertToInteractive(key) {\n",
              "          const element = document.querySelector('#df-42cf47aa-8304-4810-9ffe-ee7cfb7982b4');\n",
              "          const dataTable =\n",
              "            await google.colab.kernel.invokeFunction('convertToInteractive',\n",
              "                                                     [key], {});\n",
              "          if (!dataTable) return;\n",
              "\n",
              "          const docLinkHtml = 'Like what you see? Visit the ' +\n",
              "            '<a target=\"_blank\" href=https://colab.research.google.com/notebooks/data_table.ipynb>data table notebook</a>'\n",
              "            + ' to learn more about interactive tables.';\n",
              "          element.innerHTML = '';\n",
              "          dataTable['output_type'] = 'display_data';\n",
              "          await google.colab.output.renderOutput(dataTable, element);\n",
              "          const docLink = document.createElement('div');\n",
              "          docLink.innerHTML = docLinkHtml;\n",
              "          element.appendChild(docLink);\n",
              "        }\n",
              "      </script>\n",
              "    </div>\n",
              "  </div>\n",
              "  "
            ]
          },
          "metadata": {},
          "execution_count": 42
        }
      ]
    },
    {
      "cell_type": "code",
      "source": [
        "# The only column we want that is missing values is yearly_sunlight_kwh_kw_threshold_avg, with 0.002052% of values missing\n",
        "# Let's drop them\n",
        "desired_columns = ['carbon_offset_metric_tons','yearly_sunlight_kwh_kw_threshold_avg', 'yearly_sunlight_kwh_f', 'yearly_sunlight_kwh_n', 'yearly_sunlight_kwh_s', 'yearly_sunlight_kwh_e','yearly_sunlight_kwh_w','number_of_panels_f','number_of_panels_n','number_of_panels_s','number_of_panels_e','number_of_panels_w','lat_avg','lng_avg','kw_total']\n",
        "# dropna removes cols w/ missing vals\n",
        "df = df.dropna(subset=['yearly_sunlight_kwh_kw_threshold_avg'])\n",
        "df = df[desired_columns]\n",
        "df.head()"
      ],
      "metadata": {
        "colab": {
          "base_uri": "https://localhost:8080/",
          "height": 270
        },
        "id": "AZVQSRZTvQM0",
        "outputId": "2313bbaa-a4f8-442e-f682-e631a7437ce5"
      },
      "execution_count": null,
      "outputs": [
        {
          "output_type": "execute_result",
          "data": {
            "text/plain": [
              "   carbon_offset_metric_tons  yearly_sunlight_kwh_kw_threshold_avg  \\\n",
              "0                2159.887389                           1285.247909   \n",
              "1               11392.316227                            947.750000   \n",
              "2                6902.286133                            980.050000   \n",
              "3                3238.933474                            948.600000   \n",
              "4                6111.873688                           1260.550000   \n",
              "\n",
              "   yearly_sunlight_kwh_f  yearly_sunlight_kwh_n  yearly_sunlight_kwh_s  \\\n",
              "0           2.539152e+06           1.075291e+06           1.760043e+06   \n",
              "1           2.815855e+07           1.739810e+05           1.342966e+06   \n",
              "2           2.850205e+06           1.342642e+05           3.155397e+06   \n",
              "3           1.432569e+06           7.318190e+04           7.604248e+05   \n",
              "4           1.183461e+07           1.691435e+06           3.551939e+06   \n",
              "\n",
              "   yearly_sunlight_kwh_e  yearly_sunlight_kwh_w  number_of_panels_f  \\\n",
              "0           1.014756e+06           1.533140e+06                6574   \n",
              "1           7.338827e+05           7.666855e+05              102635   \n",
              "2           1.024630e+06           1.173068e+06                9963   \n",
              "3           1.203715e+06           4.425539e+05                5001   \n",
              "4           2.070519e+06           3.269615e+06               31555   \n",
              "\n",
              "   number_of_panels_n  number_of_panels_s  number_of_panels_e  \\\n",
              "0                3159                4352                2964   \n",
              "1                 693                4578                2760   \n",
              "2                 535               10649                3841   \n",
              "3                 299                2529                4920   \n",
              "4                5146                8933                5933   \n",
              "\n",
              "   number_of_panels_w    lat_avg     lng_avg  kw_total  \n",
              "0                3827  34.267040 -118.432716   5219.00  \n",
              "1                2899  43.156368  -77.607040  28391.25  \n",
              "2                4421  42.277794  -89.066589   7352.25  \n",
              "3                1644  40.422962  -79.993729   3598.25  \n",
              "4                8827  33.844044 -117.933113  15098.50  "
            ],
            "text/html": [
              "\n",
              "  <div id=\"df-36651613-5844-4e2e-bbbd-c625da0616b1\">\n",
              "    <div class=\"colab-df-container\">\n",
              "      <div>\n",
              "<style scoped>\n",
              "    .dataframe tbody tr th:only-of-type {\n",
              "        vertical-align: middle;\n",
              "    }\n",
              "\n",
              "    .dataframe tbody tr th {\n",
              "        vertical-align: top;\n",
              "    }\n",
              "\n",
              "    .dataframe thead th {\n",
              "        text-align: right;\n",
              "    }\n",
              "</style>\n",
              "<table border=\"1\" class=\"dataframe\">\n",
              "  <thead>\n",
              "    <tr style=\"text-align: right;\">\n",
              "      <th></th>\n",
              "      <th>carbon_offset_metric_tons</th>\n",
              "      <th>yearly_sunlight_kwh_kw_threshold_avg</th>\n",
              "      <th>yearly_sunlight_kwh_f</th>\n",
              "      <th>yearly_sunlight_kwh_n</th>\n",
              "      <th>yearly_sunlight_kwh_s</th>\n",
              "      <th>yearly_sunlight_kwh_e</th>\n",
              "      <th>yearly_sunlight_kwh_w</th>\n",
              "      <th>number_of_panels_f</th>\n",
              "      <th>number_of_panels_n</th>\n",
              "      <th>number_of_panels_s</th>\n",
              "      <th>number_of_panels_e</th>\n",
              "      <th>number_of_panels_w</th>\n",
              "      <th>lat_avg</th>\n",
              "      <th>lng_avg</th>\n",
              "      <th>kw_total</th>\n",
              "    </tr>\n",
              "  </thead>\n",
              "  <tbody>\n",
              "    <tr>\n",
              "      <th>0</th>\n",
              "      <td>2159.887389</td>\n",
              "      <td>1285.247909</td>\n",
              "      <td>2.539152e+06</td>\n",
              "      <td>1.075291e+06</td>\n",
              "      <td>1.760043e+06</td>\n",
              "      <td>1.014756e+06</td>\n",
              "      <td>1.533140e+06</td>\n",
              "      <td>6574</td>\n",
              "      <td>3159</td>\n",
              "      <td>4352</td>\n",
              "      <td>2964</td>\n",
              "      <td>3827</td>\n",
              "      <td>34.267040</td>\n",
              "      <td>-118.432716</td>\n",
              "      <td>5219.00</td>\n",
              "    </tr>\n",
              "    <tr>\n",
              "      <th>1</th>\n",
              "      <td>11392.316227</td>\n",
              "      <td>947.750000</td>\n",
              "      <td>2.815855e+07</td>\n",
              "      <td>1.739810e+05</td>\n",
              "      <td>1.342966e+06</td>\n",
              "      <td>7.338827e+05</td>\n",
              "      <td>7.666855e+05</td>\n",
              "      <td>102635</td>\n",
              "      <td>693</td>\n",
              "      <td>4578</td>\n",
              "      <td>2760</td>\n",
              "      <td>2899</td>\n",
              "      <td>43.156368</td>\n",
              "      <td>-77.607040</td>\n",
              "      <td>28391.25</td>\n",
              "    </tr>\n",
              "    <tr>\n",
              "      <th>2</th>\n",
              "      <td>6902.286133</td>\n",
              "      <td>980.050000</td>\n",
              "      <td>2.850205e+06</td>\n",
              "      <td>1.342642e+05</td>\n",
              "      <td>3.155397e+06</td>\n",
              "      <td>1.024630e+06</td>\n",
              "      <td>1.173068e+06</td>\n",
              "      <td>9963</td>\n",
              "      <td>535</td>\n",
              "      <td>10649</td>\n",
              "      <td>3841</td>\n",
              "      <td>4421</td>\n",
              "      <td>42.277794</td>\n",
              "      <td>-89.066589</td>\n",
              "      <td>7352.25</td>\n",
              "    </tr>\n",
              "    <tr>\n",
              "      <th>3</th>\n",
              "      <td>3238.933474</td>\n",
              "      <td>948.600000</td>\n",
              "      <td>1.432569e+06</td>\n",
              "      <td>7.318190e+04</td>\n",
              "      <td>7.604248e+05</td>\n",
              "      <td>1.203715e+06</td>\n",
              "      <td>4.425539e+05</td>\n",
              "      <td>5001</td>\n",
              "      <td>299</td>\n",
              "      <td>2529</td>\n",
              "      <td>4920</td>\n",
              "      <td>1644</td>\n",
              "      <td>40.422962</td>\n",
              "      <td>-79.993729</td>\n",
              "      <td>3598.25</td>\n",
              "    </tr>\n",
              "    <tr>\n",
              "      <th>4</th>\n",
              "      <td>6111.873688</td>\n",
              "      <td>1260.550000</td>\n",
              "      <td>1.183461e+07</td>\n",
              "      <td>1.691435e+06</td>\n",
              "      <td>3.551939e+06</td>\n",
              "      <td>2.070519e+06</td>\n",
              "      <td>3.269615e+06</td>\n",
              "      <td>31555</td>\n",
              "      <td>5146</td>\n",
              "      <td>8933</td>\n",
              "      <td>5933</td>\n",
              "      <td>8827</td>\n",
              "      <td>33.844044</td>\n",
              "      <td>-117.933113</td>\n",
              "      <td>15098.50</td>\n",
              "    </tr>\n",
              "  </tbody>\n",
              "</table>\n",
              "</div>\n",
              "      <button class=\"colab-df-convert\" onclick=\"convertToInteractive('df-36651613-5844-4e2e-bbbd-c625da0616b1')\"\n",
              "              title=\"Convert this dataframe to an interactive table.\"\n",
              "              style=\"display:none;\">\n",
              "        \n",
              "  <svg xmlns=\"http://www.w3.org/2000/svg\" height=\"24px\"viewBox=\"0 0 24 24\"\n",
              "       width=\"24px\">\n",
              "    <path d=\"M0 0h24v24H0V0z\" fill=\"none\"/>\n",
              "    <path d=\"M18.56 5.44l.94 2.06.94-2.06 2.06-.94-2.06-.94-.94-2.06-.94 2.06-2.06.94zm-11 1L8.5 8.5l.94-2.06 2.06-.94-2.06-.94L8.5 2.5l-.94 2.06-2.06.94zm10 10l.94 2.06.94-2.06 2.06-.94-2.06-.94-.94-2.06-.94 2.06-2.06.94z\"/><path d=\"M17.41 7.96l-1.37-1.37c-.4-.4-.92-.59-1.43-.59-.52 0-1.04.2-1.43.59L10.3 9.45l-7.72 7.72c-.78.78-.78 2.05 0 2.83L4 21.41c.39.39.9.59 1.41.59.51 0 1.02-.2 1.41-.59l7.78-7.78 2.81-2.81c.8-.78.8-2.07 0-2.86zM5.41 20L4 18.59l7.72-7.72 1.47 1.35L5.41 20z\"/>\n",
              "  </svg>\n",
              "      </button>\n",
              "      \n",
              "  <style>\n",
              "    .colab-df-container {\n",
              "      display:flex;\n",
              "      flex-wrap:wrap;\n",
              "      gap: 12px;\n",
              "    }\n",
              "\n",
              "    .colab-df-convert {\n",
              "      background-color: #E8F0FE;\n",
              "      border: none;\n",
              "      border-radius: 50%;\n",
              "      cursor: pointer;\n",
              "      display: none;\n",
              "      fill: #1967D2;\n",
              "      height: 32px;\n",
              "      padding: 0 0 0 0;\n",
              "      width: 32px;\n",
              "    }\n",
              "\n",
              "    .colab-df-convert:hover {\n",
              "      background-color: #E2EBFA;\n",
              "      box-shadow: 0px 1px 2px rgba(60, 64, 67, 0.3), 0px 1px 3px 1px rgba(60, 64, 67, 0.15);\n",
              "      fill: #174EA6;\n",
              "    }\n",
              "\n",
              "    [theme=dark] .colab-df-convert {\n",
              "      background-color: #3B4455;\n",
              "      fill: #D2E3FC;\n",
              "    }\n",
              "\n",
              "    [theme=dark] .colab-df-convert:hover {\n",
              "      background-color: #434B5C;\n",
              "      box-shadow: 0px 1px 3px 1px rgba(0, 0, 0, 0.15);\n",
              "      filter: drop-shadow(0px 1px 2px rgba(0, 0, 0, 0.3));\n",
              "      fill: #FFFFFF;\n",
              "    }\n",
              "  </style>\n",
              "\n",
              "      <script>\n",
              "        const buttonEl =\n",
              "          document.querySelector('#df-36651613-5844-4e2e-bbbd-c625da0616b1 button.colab-df-convert');\n",
              "        buttonEl.style.display =\n",
              "          google.colab.kernel.accessAllowed ? 'block' : 'none';\n",
              "\n",
              "        async function convertToInteractive(key) {\n",
              "          const element = document.querySelector('#df-36651613-5844-4e2e-bbbd-c625da0616b1');\n",
              "          const dataTable =\n",
              "            await google.colab.kernel.invokeFunction('convertToInteractive',\n",
              "                                                     [key], {});\n",
              "          if (!dataTable) return;\n",
              "\n",
              "          const docLinkHtml = 'Like what you see? Visit the ' +\n",
              "            '<a target=\"_blank\" href=https://colab.research.google.com/notebooks/data_table.ipynb>data table notebook</a>'\n",
              "            + ' to learn more about interactive tables.';\n",
              "          element.innerHTML = '';\n",
              "          dataTable['output_type'] = 'display_data';\n",
              "          await google.colab.output.renderOutput(dataTable, element);\n",
              "          const docLink = document.createElement('div');\n",
              "          docLink.innerHTML = docLinkHtml;\n",
              "          element.appendChild(docLink);\n",
              "        }\n",
              "      </script>\n",
              "    </div>\n",
              "  </div>\n",
              "  "
            ]
          },
          "metadata": {},
          "execution_count": 43
        }
      ]
    },
    {
      "cell_type": "markdown",
      "source": [
        "We need to store the carbon score for classifcation problems later before we normalize"
      ],
      "metadata": {
        "id": "kpl79QwuFOHD"
      }
    },
    {
      "cell_type": "code",
      "source": [
        "for col in desired_columns:\n",
        "  print(col)\n",
        "  x = range(len(df[col]))\n",
        "  y = df[col] \n",
        "  plt.scatter(x, y)\n",
        "  plt.show()\n",
        "  plt.rcParams[\"figure.figsize\"] = (5,5)"
      ],
      "metadata": {
        "id": "VAmpg5B9W6Xb"
      },
      "execution_count": null,
      "outputs": []
    },
    {
      "cell_type": "code",
      "source": [
        "carbon_scores = []\n",
        "carbon_offset_range = (max(df['carbon_offset_metric_tons']) - min(df['carbon_offset_metric_tons']))\n",
        "carbon_offset_min = min(df['carbon_offset_metric_tons'])\n",
        "\n",
        "for carbon_offset_metric_tons in df['carbon_offset_metric_tons']:\n",
        "  next_score = (carbon_offset_metric_tons - carbon_offset_min) / carbon_offset_range\n",
        "  next_score = np.ceil(next_score * 5)\n",
        "  if(next_score == 0): next_score = 1\n",
        "  carbon_scores.append(next_score)\n",
        "\n",
        "# Using DataFrame.insert() to add a column\n",
        "# df.insert(1, \"carbon_score\", carbon_scores, True)\n",
        "df.describe()\n"
      ],
      "metadata": {
        "id": "DNkTNDcGFRI8",
        "colab": {
          "base_uri": "https://localhost:8080/",
          "height": 1000
        },
        "outputId": "5673f24d-6ac6-4d74-f817-d335a852518c"
      },
      "execution_count": null,
      "outputs": [
        {
          "output_type": "stream",
          "name": "stdout",
          "text": [
            "carbon_offset_metric_tons\n"
          ]
        },
        {
          "output_type": "display_data",
          "data": {
            "text/plain": [
              "<Figure size 432x288 with 1 Axes>"
            ],
            "image/png": "[encoded data removed]"
          },
          "metadata": {
            "needs_background": "light"
          }
        },
        {
          "output_type": "stream",
          "name": "stdout",
          "text": [
            "yearly_sunlight_kwh_kw_threshold_avg\n"
          ]
        },
        {
          "output_type": "display_data",
          "data": {
            "text/plain": [
              "<Figure size 360x360 with 1 Axes>"
            ],
            "image/png": "[encoded data removed]"
          },
          "metadata": {
            "needs_background": "light"
          }
        },
        {
          "output_type": "stream",
          "name": "stdout",
          "text": [
            "yearly_sunlight_kwh_f\n"
          ]
        },
        {
          "output_type": "display_data",
          "data": {
            "text/plain": [
              "<Figure size 360x360 with 1 Axes>"
            ],
            "image/png": "[encoded data removed]"
          },
          "metadata": {
            "needs_background": "light"
          }
        },
        {
          "output_type": "stream",
          "name": "stdout",
          "text": [
            "yearly_sunlight_kwh_n\n"
          ]
        },
        {
          "output_type": "display_data",
          "data": {
            "text/plain": [
              "<Figure size 360x360 with 1 Axes>"
            ],
            "image/png": "[encoded data removed]"
          },
          "metadata": {
            "needs_background": "light"
          }
        },
        {
          "output_type": "stream",
          "name": "stdout",
          "text": [
            "yearly_sunlight_kwh_s\n"
          ]
        },
        {
          "output_type": "display_data",
          "data": {
            "text/plain": [
              "<Figure size 360x360 with 1 Axes>"
            ],
            "image/png": "[encoded data removed]"
          },
          "metadata": {
            "needs_background": "light"
          }
        },
        {
          "output_type": "stream",
          "name": "stdout",
          "text": [
            "yearly_sunlight_kwh_e\n"
          ]
        },
        {
          "output_type": "display_data",
          "data": {
            "text/plain": [
              "<Figure size 360x360 with 1 Axes>"
            ],
            "image/png": "[encoded data removed]"
          },
          "metadata": {
            "needs_background": "light"
          }
        },
        {
          "output_type": "stream",
          "name": "stdout",
          "text": [
            "yearly_sunlight_kwh_w\n"
          ]
        },
        {
          "output_type": "display_data",
          "data": {
            "text/plain": [
              "<Figure size 360x360 with 1 Axes>"
            ],
            "image/png": "[encoded data removed]"
          },
          "metadata": {
            "needs_background": "light"
          }
        },
        {
          "output_type": "stream",
          "name": "stdout",
          "text": [
            "number_of_panels_f\n"
          ]
        },
        {
          "output_type": "display_data",
          "data": {
            "text/plain": [
              "<Figure size 360x360 with 1 Axes>"
            ],
            "image/png": "[encoded data removed]"
          },
          "metadata": {
            "needs_background": "light"
          }
        },
        {
          "output_type": "stream",
          "name": "stdout",
          "text": [
            "number_of_panels_n\n"
          ]
        },
        {
          "output_type": "display_data",
          "data": {
            "text/plain": [
              "<Figure size 360x360 with 1 Axes>"
            ],
            "image/png": "[encoded data removed]"
          },
          "metadata": {
            "needs_background": "light"
          }
        },
        {
          "output_type": "stream",
          "name": "stdout",
          "text": [
            "number_of_panels_s\n"
          ]
        },
        {
          "output_type": "display_data",
          "data": {
            "text/plain": [
              "<Figure size 360x360 with 1 Axes>"
            ],
            "image/png": "[encoded data removed]"
          },
          "metadata": {
            "needs_background": "light"
          }
        },
        {
          "output_type": "stream",
          "name": "stdout",
          "text": [
            "number_of_panels_e\n"
          ]
        },
        {
          "output_type": "display_data",
          "data": {
            "text/plain": [
              "<Figure size 360x360 with 1 Axes>"
            ],
            "image/png": "[encoded data removed]"
          },
          "metadata": {
            "needs_background": "light"
          }
        },
        {
          "output_type": "stream",
          "name": "stdout",
          "text": [
            "number_of_panels_w\n"
          ]
        },
        {
          "output_type": "display_data",
          "data": {
            "text/plain": [
              "<Figure size 360x360 with 1 Axes>"
            ],
            "image/png": "[encoded data removed]"
          },
          "metadata": {
            "needs_background": "light"
          }
        },
        {
          "output_type": "stream",
          "name": "stdout",
          "text": [
            "lat_avg\n"
          ]
        },
        {
          "output_type": "display_data",
          "data": {
            "text/plain": [
              "<Figure size 360x360 with 1 Axes>"
            ],
            "image/png": "[encoded data removed]"
          },
          "metadata": {
            "needs_background": "light"
          }
        },
        {
          "output_type": "stream",
          "name": "stdout",
          "text": [
            "lng_avg\n"
          ]
        },
        {
          "output_type": "display_data",
          "data": {
            "text/plain": [
              "<Figure size 360x360 with 1 Axes>"
            ],
            "image/png": "[encoded data removed]"
          },
          "metadata": {
            "needs_background": "light"
          }
        },
        {
          "output_type": "stream",
          "name": "stdout",
          "text": [
            "kw_total\n"
          ]
        },
        {
          "output_type": "display_data",
          "data": {
            "text/plain": [
              "<Figure size 360x360 with 1 Axes>"
            ],
            "image/png": "[encoded data removed]"
          },
          "metadata": {
            "needs_background": "light"
          }
        },
        {
          "output_type": "execute_result",
          "data": {
            "text/plain": [
              "       carbon_offset_metric_tons  carbon_score  carbon_score  carbon_score  \\\n",
              "count               48664.000000  48664.000000  48664.000000  48664.000000   \n",
              "mean                    0.033864      1.006350      1.006350      1.006350   \n",
              "std                     0.035882      0.088951      0.088951      0.088951   \n",
              "min                     0.000000      1.000000      1.000000      1.000000   \n",
              "25%                     0.011845      1.000000      1.000000      1.000000   \n",
              "50%                     0.023694      1.000000      1.000000      1.000000   \n",
              "75%                     0.043932      1.000000      1.000000      1.000000   \n",
              "max                     1.000000      5.000000      5.000000      5.000000   \n",
              "\n",
              "       carbon_score  carbon_score  yearly_sunlight_kwh_kw_threshold_avg  \\\n",
              "count  48664.000000  48664.000000                          48664.000000   \n",
              "mean       1.006350      0.001587                              0.505823   \n",
              "std        0.088951      0.022238                              0.185401   \n",
              "min        1.000000      0.000000                              0.000000   \n",
              "25%        1.000000      0.000000                              0.362934   \n",
              "50%        1.000000      0.000000                              0.475011   \n",
              "75%        1.000000      0.000000                              0.622480   \n",
              "max        5.000000      1.000000                              1.000000   \n",
              "\n",
              "       yearly_sunlight_kwh_f  yearly_sunlight_kwh_n  yearly_sunlight_kwh_s  \\\n",
              "count           48664.000000           48664.000000           48664.000000   \n",
              "mean                0.019771               0.036751               0.051783   \n",
              "std                 0.031765               0.047662               0.050100   \n",
              "min                 0.000000               0.000000               0.000000   \n",
              "25%                 0.004970               0.005541               0.018267   \n",
              "50%                 0.010897               0.019944               0.039363   \n",
              "75%                 0.022987               0.050205               0.070282   \n",
              "max                 1.000000               1.000000               1.000000   \n",
              "\n",
              "       yearly_sunlight_kwh_e  yearly_sunlight_kwh_w  number_of_panels_f  \\\n",
              "count           48664.000000           48664.000000        48664.000000   \n",
              "mean                0.043159               0.051045            0.020763   \n",
              "std                 0.045260               0.053072            0.032380   \n",
              "min                 0.000000               0.000000            0.000000   \n",
              "25%                 0.012899               0.015572            0.005489   \n",
              "50%                 0.031171               0.037287            0.011670   \n",
              "75%                 0.058643               0.069241            0.024098   \n",
              "max                 1.000000               1.000000            1.000000   \n",
              "\n",
              "       number_of_panels_n  number_of_panels_s  number_of_panels_e  \\\n",
              "count        48664.000000        48664.000000        48664.000000   \n",
              "mean             0.037344            0.054829            0.046938   \n",
              "std              0.046595            0.050459            0.046944   \n",
              "min              0.000000            0.000000            0.000000   \n",
              "25%              0.006153            0.020447            0.014781   \n",
              "50%              0.021137            0.043268            0.035006   \n",
              "75%              0.051639            0.074998            0.064608   \n",
              "max              1.000000            1.000000            1.000000   \n",
              "\n",
              "       number_of_panels_w       lat_avg       lng_avg      kw_total  \n",
              "count        48664.000000  48664.000000  48664.000000  48664.000000  \n",
              "mean             0.053523      0.393807      0.724849      0.044297  \n",
              "std              0.052966      0.111215      0.190268      0.043032  \n",
              "min              0.000000      0.000000      0.000000      0.000000  \n",
              "25%              0.017519      0.314291      0.576413      0.017558  \n",
              "50%              0.040519      0.415627      0.783926      0.034230  \n",
              "75%              0.073439      0.476059      0.867436      0.057674  \n",
              "max              1.000000      1.000000      1.000000      1.000000  "
            ],
            "text/html": [
              "\n",
              "  <div id=\"df-025b1776-4a40-41ff-813a-589ab787a43a\">\n",
              "    <div class=\"colab-df-container\">\n",
              "      <div>\n",
              "<style scoped>\n",
              "    .dataframe tbody tr th:only-of-type {\n",
              "        vertical-align: middle;\n",
              "    }\n",
              "\n",
              "    .dataframe tbody tr th {\n",
              "        vertical-align: top;\n",
              "    }\n",
              "\n",
              "    .dataframe thead th {\n",
              "        text-align: right;\n",
              "    }\n",
              "</style>\n",
              "<table border=\"1\" class=\"dataframe\">\n",
              "  <thead>\n",
              "    <tr style=\"text-align: right;\">\n",
              "      <th></th>\n",
              "      <th>carbon_offset_metric_tons</th>\n",
              "      <th>carbon_score</th>\n",
              "      <th>carbon_score</th>\n",
              "      <th>carbon_score</th>\n",
              "      <th>carbon_score</th>\n",
              "      <th>carbon_score</th>\n",
              "      <th>yearly_sunlight_kwh_kw_threshold_avg</th>\n",
              "      <th>yearly_sunlight_kwh_f</th>\n",
              "      <th>yearly_sunlight_kwh_n</th>\n",
              "      <th>yearly_sunlight_kwh_s</th>\n",
              "      <th>yearly_sunlight_kwh_e</th>\n",
              "      <th>yearly_sunlight_kwh_w</th>\n",
              "      <th>number_of_panels_f</th>\n",
              "      <th>number_of_panels_n</th>\n",
              "      <th>number_of_panels_s</th>\n",
              "      <th>number_of_panels_e</th>\n",
              "      <th>number_of_panels_w</th>\n",
              "      <th>lat_avg</th>\n",
              "      <th>lng_avg</th>\n",
              "      <th>kw_total</th>\n",
              "    </tr>\n",
              "  </thead>\n",
              "  <tbody>\n",
              "    <tr>\n",
              "      <th>count</th>\n",
              "      <td>48664.000000</td>\n",
              "      <td>48664.000000</td>\n",
              "      <td>48664.000000</td>\n",
              "      <td>48664.000000</td>\n",
              "      <td>48664.000000</td>\n",
              "      <td>48664.000000</td>\n",
              "      <td>48664.000000</td>\n",
              "      <td>48664.000000</td>\n",
              "      <td>48664.000000</td>\n",
              "      <td>48664.000000</td>\n",
              "      <td>48664.000000</td>\n",
              "      <td>48664.000000</td>\n",
              "      <td>48664.000000</td>\n",
              "      <td>48664.000000</td>\n",
              "      <td>48664.000000</td>\n",
              "      <td>48664.000000</td>\n",
              "      <td>48664.000000</td>\n",
              "      <td>48664.000000</td>\n",
              "      <td>48664.000000</td>\n",
              "      <td>48664.000000</td>\n",
              "    </tr>\n",
              "    <tr>\n",
              "      <th>mean</th>\n",
              "      <td>0.033864</td>\n",
              "      <td>1.006350</td>\n",
              "      <td>1.006350</td>\n",
              "      <td>1.006350</td>\n",
              "      <td>1.006350</td>\n",
              "      <td>0.001587</td>\n",
              "      <td>0.505823</td>\n",
              "      <td>0.019771</td>\n",
              "      <td>0.036751</td>\n",
              "      <td>0.051783</td>\n",
              "      <td>0.043159</td>\n",
              "      <td>0.051045</td>\n",
              "      <td>0.020763</td>\n",
              "      <td>0.037344</td>\n",
              "      <td>0.054829</td>\n",
              "      <td>0.046938</td>\n",
              "      <td>0.053523</td>\n",
              "      <td>0.393807</td>\n",
              "      <td>0.724849</td>\n",
              "      <td>0.044297</td>\n",
              "    </tr>\n",
              "    <tr>\n",
              "      <th>std</th>\n",
              "      <td>0.035882</td>\n",
              "      <td>0.088951</td>\n",
              "      <td>0.088951</td>\n",
              "      <td>0.088951</td>\n",
              "      <td>0.088951</td>\n",
              "      <td>0.022238</td>\n",
              "      <td>0.185401</td>\n",
              "      <td>0.031765</td>\n",
              "      <td>0.047662</td>\n",
              "      <td>0.050100</td>\n",
              "      <td>0.045260</td>\n",
              "      <td>0.053072</td>\n",
              "      <td>0.032380</td>\n",
              "      <td>0.046595</td>\n",
              "      <td>0.050459</td>\n",
              "      <td>0.046944</td>\n",
              "      <td>0.052966</td>\n",
              "      <td>0.111215</td>\n",
              "      <td>0.190268</td>\n",
              "      <td>0.043032</td>\n",
              "    </tr>\n",
              "    <tr>\n",
              "      <th>min</th>\n",
              "      <td>0.000000</td>\n",
              "      <td>1.000000</td>\n",
              "      <td>1.000000</td>\n",
              "      <td>1.000000</td>\n",
              "      <td>1.000000</td>\n",
              "      <td>0.000000</td>\n",
              "      <td>0.000000</td>\n",
              "      <td>0.000000</td>\n",
              "      <td>0.000000</td>\n",
              "      <td>0.000000</td>\n",
              "      <td>0.000000</td>\n",
              "      <td>0.000000</td>\n",
              "      <td>0.000000</td>\n",
              "      <td>0.000000</td>\n",
              "      <td>0.000000</td>\n",
              "      <td>0.000000</td>\n",
              "      <td>0.000000</td>\n",
              "      <td>0.000000</td>\n",
              "      <td>0.000000</td>\n",
              "      <td>0.000000</td>\n",
              "    </tr>\n",
              "    <tr>\n",
              "      <th>25%</th>\n",
              "      <td>0.011845</td>\n",
              "      <td>1.000000</td>\n",
              "      <td>1.000000</td>\n",
              "      <td>1.000000</td>\n",
              "      <td>1.000000</td>\n",
              "      <td>0.000000</td>\n",
              "      <td>0.362934</td>\n",
              "      <td>0.004970</td>\n",
              "      <td>0.005541</td>\n",
              "      <td>0.018267</td>\n",
              "      <td>0.012899</td>\n",
              "      <td>0.015572</td>\n",
              "      <td>0.005489</td>\n",
              "      <td>0.006153</td>\n",
              "      <td>0.020447</td>\n",
              "      <td>0.014781</td>\n",
              "      <td>0.017519</td>\n",
              "      <td>0.314291</td>\n",
              "      <td>0.576413</td>\n",
              "      <td>0.017558</td>\n",
              "    </tr>\n",
              "    <tr>\n",
              "      <th>50%</th>\n",
              "      <td>0.023694</td>\n",
              "      <td>1.000000</td>\n",
              "      <td>1.000000</td>\n",
              "      <td>1.000000</td>\n",
              "      <td>1.000000</td>\n",
              "      <td>0.000000</td>\n",
              "      <td>0.475011</td>\n",
              "      <td>0.010897</td>\n",
              "      <td>0.019944</td>\n",
              "      <td>0.039363</td>\n",
              "      <td>0.031171</td>\n",
              "      <td>0.037287</td>\n",
              "      <td>0.011670</td>\n",
              "      <td>0.021137</td>\n",
              "      <td>0.043268</td>\n",
              "      <td>0.035006</td>\n",
              "      <td>0.040519</td>\n",
              "      <td>0.415627</td>\n",
              "      <td>0.783926</td>\n",
              "      <td>0.034230</td>\n",
              "    </tr>\n",
              "    <tr>\n",
              "      <th>75%</th>\n",
              "      <td>0.043932</td>\n",
              "      <td>1.000000</td>\n",
              "      <td>1.000000</td>\n",
              "      <td>1.000000</td>\n",
              "      <td>1.000000</td>\n",
              "      <td>0.000000</td>\n",
              "      <td>0.622480</td>\n",
              "      <td>0.022987</td>\n",
              "      <td>0.050205</td>\n",
              "      <td>0.070282</td>\n",
              "      <td>0.058643</td>\n",
              "      <td>0.069241</td>\n",
              "      <td>0.024098</td>\n",
              "      <td>0.051639</td>\n",
              "      <td>0.074998</td>\n",
              "      <td>0.064608</td>\n",
              "      <td>0.073439</td>\n",
              "      <td>0.476059</td>\n",
              "      <td>0.867436</td>\n",
              "      <td>0.057674</td>\n",
              "    </tr>\n",
              "    <tr>\n",
              "      <th>max</th>\n",
              "      <td>1.000000</td>\n",
              "      <td>5.000000</td>\n",
              "      <td>5.000000</td>\n",
              "      <td>5.000000</td>\n",
              "      <td>5.000000</td>\n",
              "      <td>1.000000</td>\n",
              "      <td>1.000000</td>\n",
              "      <td>1.000000</td>\n",
              "      <td>1.000000</td>\n",
              "      <td>1.000000</td>\n",
              "      <td>1.000000</td>\n",
              "      <td>1.000000</td>\n",
              "      <td>1.000000</td>\n",
              "      <td>1.000000</td>\n",
              "      <td>1.000000</td>\n",
              "      <td>1.000000</td>\n",
              "      <td>1.000000</td>\n",
              "      <td>1.000000</td>\n",
              "      <td>1.000000</td>\n",
              "      <td>1.000000</td>\n",
              "    </tr>\n",
              "  </tbody>\n",
              "</table>\n",
              "</div>\n",
              "      <button class=\"colab-df-convert\" onclick=\"convertToInteractive('df-025b1776-4a40-41ff-813a-589ab787a43a')\"\n",
              "              title=\"Convert this dataframe to an interactive table.\"\n",
              "              style=\"display:none;\">\n",
              "        \n",
              "  <svg xmlns=\"http://www.w3.org/2000/svg\" height=\"24px\"viewBox=\"0 0 24 24\"\n",
              "       width=\"24px\">\n",
              "    <path d=\"M0 0h24v24H0V0z\" fill=\"none\"/>\n",
              "    <path d=\"M18.56 5.44l.94 2.06.94-2.06 2.06-.94-2.06-.94-.94-2.06-.94 2.06-2.06.94zm-11 1L8.5 8.5l.94-2.06 2.06-.94-2.06-.94L8.5 2.5l-.94 2.06-2.06.94zm10 10l.94 2.06.94-2.06 2.06-.94-2.06-.94-.94-2.06-.94 2.06-2.06.94z\"/><path d=\"M17.41 7.96l-1.37-1.37c-.4-.4-.92-.59-1.43-.59-.52 0-1.04.2-1.43.59L10.3 9.45l-7.72 7.72c-.78.78-.78 2.05 0 2.83L4 21.41c.39.39.9.59 1.41.59.51 0 1.02-.2 1.41-.59l7.78-7.78 2.81-2.81c.8-.78.8-2.07 0-2.86zM5.41 20L4 18.59l7.72-7.72 1.47 1.35L5.41 20z\"/>\n",
              "  </svg>\n",
              "      </button>\n",
              "      \n",
              "  <style>\n",
              "    .colab-df-container {\n",
              "      display:flex;\n",
              "      flex-wrap:wrap;\n",
              "      gap: 12px;\n",
              "    }\n",
              "\n",
              "    .colab-df-convert {\n",
              "      background-color: #E8F0FE;\n",
              "      border: none;\n",
              "      border-radius: 50%;\n",
              "      cursor: pointer;\n",
              "      display: none;\n",
              "      fill: #1967D2;\n",
              "      height: 32px;\n",
              "      padding: 0 0 0 0;\n",
              "      width: 32px;\n",
              "    }\n",
              "\n",
              "    .colab-df-convert:hover {\n",
              "      background-color: #E2EBFA;\n",
              "      box-shadow: 0px 1px 2px rgba(60, 64, 67, 0.3), 0px 1px 3px 1px rgba(60, 64, 67, 0.15);\n",
              "      fill: #174EA6;\n",
              "    }\n",
              "\n",
              "    [theme=dark] .colab-df-convert {\n",
              "      background-color: #3B4455;\n",
              "      fill: #D2E3FC;\n",
              "    }\n",
              "\n",
              "    [theme=dark] .colab-df-convert:hover {\n",
              "      background-color: #434B5C;\n",
              "      box-shadow: 0px 1px 3px 1px rgba(0, 0, 0, 0.15);\n",
              "      filter: drop-shadow(0px 1px 2px rgba(0, 0, 0, 0.3));\n",
              "      fill: #FFFFFF;\n",
              "    }\n",
              "  </style>\n",
              "\n",
              "      <script>\n",
              "        const buttonEl =\n",
              "          document.querySelector('#df-025b1776-4a40-41ff-813a-589ab787a43a button.colab-df-convert');\n",
              "        buttonEl.style.display =\n",
              "          google.colab.kernel.accessAllowed ? 'block' : 'none';\n",
              "\n",
              "        async function convertToInteractive(key) {\n",
              "          const element = document.querySelector('#df-025b1776-4a40-41ff-813a-589ab787a43a');\n",
              "          const dataTable =\n",
              "            await google.colab.kernel.invokeFunction('convertToInteractive',\n",
              "                                                     [key], {});\n",
              "          if (!dataTable) return;\n",
              "\n",
              "          const docLinkHtml = 'Like what you see? Visit the ' +\n",
              "            '<a target=\"_blank\" href=https://colab.research.google.com/notebooks/data_table.ipynb>data table notebook</a>'\n",
              "            + ' to learn more about interactive tables.';\n",
              "          element.innerHTML = '';\n",
              "          dataTable['output_type'] = 'display_data';\n",
              "          await google.colab.output.renderOutput(dataTable, element);\n",
              "          const docLink = document.createElement('div');\n",
              "          docLink.innerHTML = docLinkHtml;\n",
              "          element.appendChild(docLink);\n",
              "        }\n",
              "      </script>\n",
              "    </div>\n",
              "  </div>\n",
              "  "
            ]
          },
          "metadata": {},
          "execution_count": 59
        }
      ]
    },
    {
      "cell_type": "markdown",
      "source": [
        "Now we need to normalize our data. We can use simple min-max normalization."
      ],
      "metadata": {
        "id": "GZ2jxbxzlqp4"
      }
    },
    {
      "cell_type": "code",
      "source": [
        "# Normalize using Min/Max Normalization.\n",
        "normalized_df = (df-df.min())/(df.max()-df.min())\n",
        "df = normalized_df\n",
        "df.head()"
      ],
      "metadata": {
        "id": "25P8s5NRlswP",
        "colab": {
          "base_uri": "https://localhost:8080/",
          "height": 270
        },
        "outputId": "26445d59-e7bb-4791-be93-6fefac12eb96"
      },
      "execution_count": null,
      "outputs": [
        {
          "output_type": "execute_result",
          "data": {
            "text/plain": [
              "   carbon_offset_metric_tons  carbon_score  \\\n",
              "0                   0.006221           0.0   \n",
              "1                   0.032812           0.0   \n",
              "2                   0.019880           0.0   \n",
              "3                   0.009329           0.0   \n",
              "4                   0.017603           0.0   \n",
              "\n",
              "   yearly_sunlight_kwh_kw_threshold_avg  yearly_sunlight_kwh_f  \\\n",
              "0                              0.773554               0.004887   \n",
              "1                              0.305127               0.054191   \n",
              "2                              0.349957               0.005485   \n",
              "3                              0.306306               0.002757   \n",
              "4                              0.739275               0.022776   \n",
              "\n",
              "   yearly_sunlight_kwh_n  yearly_sunlight_kwh_s  yearly_sunlight_kwh_e  \\\n",
              "0               0.035009               0.019396               0.015868   \n",
              "1               0.005664               0.014799               0.011476   \n",
              "2               0.004371               0.034772               0.016022   \n",
              "3               0.002383               0.008380               0.018822   \n",
              "4               0.055070               0.039142               0.032377   \n",
              "\n",
              "   yearly_sunlight_kwh_w  number_of_panels_f  number_of_panels_n  \\\n",
              "0               0.022474            0.004375            0.030657   \n",
              "1               0.011239            0.068301            0.006725   \n",
              "2               0.017196            0.006630            0.005192   \n",
              "3               0.006487            0.003328            0.002902   \n",
              "4               0.047928            0.020999            0.049940   \n",
              "\n",
              "   number_of_panels_s  number_of_panels_e  number_of_panels_w   lat_avg  \\\n",
              "0            0.017545            0.015731            0.018634  0.323730   \n",
              "1            0.018456            0.014649            0.014116  0.519408   \n",
              "2            0.042932            0.020386            0.021527  0.500068   \n",
              "3            0.010196            0.026113            0.008005  0.459238   \n",
              "4            0.036014            0.031489            0.042980  0.314419   \n",
              "\n",
              "    lng_avg  kw_total  \n",
              "0  0.441723  0.013499  \n",
              "1  0.896069  0.073460  \n",
              "2  0.768536  0.019019  \n",
              "3  0.869507  0.009306  \n",
              "4  0.447283  0.039064  "
            ],
            "text/html": [
              "\n",
              "  <div id=\"df-224a8e0a-3bd0-4d7b-9225-668823025c41\">\n",
              "    <div class=\"colab-df-container\">\n",
              "      <div>\n",
              "<style scoped>\n",
              "    .dataframe tbody tr th:only-of-type {\n",
              "        vertical-align: middle;\n",
              "    }\n",
              "\n",
              "    .dataframe tbody tr th {\n",
              "        vertical-align: top;\n",
              "    }\n",
              "\n",
              "    .dataframe thead th {\n",
              "        text-align: right;\n",
              "    }\n",
              "</style>\n",
              "<table border=\"1\" class=\"dataframe\">\n",
              "  <thead>\n",
              "    <tr style=\"text-align: right;\">\n",
              "      <th></th>\n",
              "      <th>carbon_offset_metric_tons</th>\n",
              "      <th>carbon_score</th>\n",
              "      <th>yearly_sunlight_kwh_kw_threshold_avg</th>\n",
              "      <th>yearly_sunlight_kwh_f</th>\n",
              "      <th>yearly_sunlight_kwh_n</th>\n",
              "      <th>yearly_sunlight_kwh_s</th>\n",
              "      <th>yearly_sunlight_kwh_e</th>\n",
              "      <th>yearly_sunlight_kwh_w</th>\n",
              "      <th>number_of_panels_f</th>\n",
              "      <th>number_of_panels_n</th>\n",
              "      <th>number_of_panels_s</th>\n",
              "      <th>number_of_panels_e</th>\n",
              "      <th>number_of_panels_w</th>\n",
              "      <th>lat_avg</th>\n",
              "      <th>lng_avg</th>\n",
              "      <th>kw_total</th>\n",
              "    </tr>\n",
              "  </thead>\n",
              "  <tbody>\n",
              "    <tr>\n",
              "      <th>0</th>\n",
              "      <td>0.006221</td>\n",
              "      <td>0.0</td>\n",
              "      <td>0.773554</td>\n",
              "      <td>0.004887</td>\n",
              "      <td>0.035009</td>\n",
              "      <td>0.019396</td>\n",
              "      <td>0.015868</td>\n",
              "      <td>0.022474</td>\n",
              "      <td>0.004375</td>\n",
              "      <td>0.030657</td>\n",
              "      <td>0.017545</td>\n",
              "      <td>0.015731</td>\n",
              "      <td>0.018634</td>\n",
              "      <td>0.323730</td>\n",
              "      <td>0.441723</td>\n",
              "      <td>0.013499</td>\n",
              "    </tr>\n",
              "    <tr>\n",
              "      <th>1</th>\n",
              "      <td>0.032812</td>\n",
              "      <td>0.0</td>\n",
              "      <td>0.305127</td>\n",
              "      <td>0.054191</td>\n",
              "      <td>0.005664</td>\n",
              "      <td>0.014799</td>\n",
              "      <td>0.011476</td>\n",
              "      <td>0.011239</td>\n",
              "      <td>0.068301</td>\n",
              "      <td>0.006725</td>\n",
              "      <td>0.018456</td>\n",
              "      <td>0.014649</td>\n",
              "      <td>0.014116</td>\n",
              "      <td>0.519408</td>\n",
              "      <td>0.896069</td>\n",
              "      <td>0.073460</td>\n",
              "    </tr>\n",
              "    <tr>\n",
              "      <th>2</th>\n",
              "      <td>0.019880</td>\n",
              "      <td>0.0</td>\n",
              "      <td>0.349957</td>\n",
              "      <td>0.005485</td>\n",
              "      <td>0.004371</td>\n",
              "      <td>0.034772</td>\n",
              "      <td>0.016022</td>\n",
              "      <td>0.017196</td>\n",
              "      <td>0.006630</td>\n",
              "      <td>0.005192</td>\n",
              "      <td>0.042932</td>\n",
              "      <td>0.020386</td>\n",
              "      <td>0.021527</td>\n",
              "      <td>0.500068</td>\n",
              "      <td>0.768536</td>\n",
              "      <td>0.019019</td>\n",
              "    </tr>\n",
              "    <tr>\n",
              "      <th>3</th>\n",
              "      <td>0.009329</td>\n",
              "      <td>0.0</td>\n",
              "      <td>0.306306</td>\n",
              "      <td>0.002757</td>\n",
              "      <td>0.002383</td>\n",
              "      <td>0.008380</td>\n",
              "      <td>0.018822</td>\n",
              "      <td>0.006487</td>\n",
              "      <td>0.003328</td>\n",
              "      <td>0.002902</td>\n",
              "      <td>0.010196</td>\n",
              "      <td>0.026113</td>\n",
              "      <td>0.008005</td>\n",
              "      <td>0.459238</td>\n",
              "      <td>0.869507</td>\n",
              "      <td>0.009306</td>\n",
              "    </tr>\n",
              "    <tr>\n",
              "      <th>4</th>\n",
              "      <td>0.017603</td>\n",
              "      <td>0.0</td>\n",
              "      <td>0.739275</td>\n",
              "      <td>0.022776</td>\n",
              "      <td>0.055070</td>\n",
              "      <td>0.039142</td>\n",
              "      <td>0.032377</td>\n",
              "      <td>0.047928</td>\n",
              "      <td>0.020999</td>\n",
              "      <td>0.049940</td>\n",
              "      <td>0.036014</td>\n",
              "      <td>0.031489</td>\n",
              "      <td>0.042980</td>\n",
              "      <td>0.314419</td>\n",
              "      <td>0.447283</td>\n",
              "      <td>0.039064</td>\n",
              "    </tr>\n",
              "  </tbody>\n",
              "</table>\n",
              "</div>\n",
              "      <button class=\"colab-df-convert\" onclick=\"convertToInteractive('df-224a8e0a-3bd0-4d7b-9225-668823025c41')\"\n",
              "              title=\"Convert this dataframe to an interactive table.\"\n",
              "              style=\"display:none;\">\n",
              "        \n",
              "  <svg xmlns=\"http://www.w3.org/2000/svg\" height=\"24px\"viewBox=\"0 0 24 24\"\n",
              "       width=\"24px\">\n",
              "    <path d=\"M0 0h24v24H0V0z\" fill=\"none\"/>\n",
              "    <path d=\"M18.56 5.44l.94 2.06.94-2.06 2.06-.94-2.06-.94-.94-2.06-.94 2.06-2.06.94zm-11 1L8.5 8.5l.94-2.06 2.06-.94-2.06-.94L8.5 2.5l-.94 2.06-2.06.94zm10 10l.94 2.06.94-2.06 2.06-.94-2.06-.94-.94-2.06-.94 2.06-2.06.94z\"/><path d=\"M17.41 7.96l-1.37-1.37c-.4-.4-.92-.59-1.43-.59-.52 0-1.04.2-1.43.59L10.3 9.45l-7.72 7.72c-.78.78-.78 2.05 0 2.83L4 21.41c.39.39.9.59 1.41.59.51 0 1.02-.2 1.41-.59l7.78-7.78 2.81-2.81c.8-.78.8-2.07 0-2.86zM5.41 20L4 18.59l7.72-7.72 1.47 1.35L5.41 20z\"/>\n",
              "  </svg>\n",
              "      </button>\n",
              "      \n",
              "  <style>\n",
              "    .colab-df-container {\n",
              "      display:flex;\n",
              "      flex-wrap:wrap;\n",
              "      gap: 12px;\n",
              "    }\n",
              "\n",
              "    .colab-df-convert {\n",
              "      background-color: #E8F0FE;\n",
              "      border: none;\n",
              "      border-radius: 50%;\n",
              "      cursor: pointer;\n",
              "      display: none;\n",
              "      fill: #1967D2;\n",
              "      height: 32px;\n",
              "      padding: 0 0 0 0;\n",
              "      width: 32px;\n",
              "    }\n",
              "\n",
              "    .colab-df-convert:hover {\n",
              "      background-color: #E2EBFA;\n",
              "      box-shadow: 0px 1px 2px rgba(60, 64, 67, 0.3), 0px 1px 3px 1px rgba(60, 64, 67, 0.15);\n",
              "      fill: #174EA6;\n",
              "    }\n",
              "\n",
              "    [theme=dark] .colab-df-convert {\n",
              "      background-color: #3B4455;\n",
              "      fill: #D2E3FC;\n",
              "    }\n",
              "\n",
              "    [theme=dark] .colab-df-convert:hover {\n",
              "      background-color: #434B5C;\n",
              "      box-shadow: 0px 1px 3px 1px rgba(0, 0, 0, 0.15);\n",
              "      filter: drop-shadow(0px 1px 2px rgba(0, 0, 0, 0.3));\n",
              "      fill: #FFFFFF;\n",
              "    }\n",
              "  </style>\n",
              "\n",
              "      <script>\n",
              "        const buttonEl =\n",
              "          document.querySelector('#df-224a8e0a-3bd0-4d7b-9225-668823025c41 button.colab-df-convert');\n",
              "        buttonEl.style.display =\n",
              "          google.colab.kernel.accessAllowed ? 'block' : 'none';\n",
              "\n",
              "        async function convertToInteractive(key) {\n",
              "          const element = document.querySelector('#df-224a8e0a-3bd0-4d7b-9225-668823025c41');\n",
              "          const dataTable =\n",
              "            await google.colab.kernel.invokeFunction('convertToInteractive',\n",
              "                                                     [key], {});\n",
              "          if (!dataTable) return;\n",
              "\n",
              "          const docLinkHtml = 'Like what you see? Visit the ' +\n",
              "            '<a target=\"_blank\" href=https://colab.research.google.com/notebooks/data_table.ipynb>data table notebook</a>'\n",
              "            + ' to learn more about interactive tables.';\n",
              "          element.innerHTML = '';\n",
              "          dataTable['output_type'] = 'display_data';\n",
              "          await google.colab.output.renderOutput(dataTable, element);\n",
              "          const docLink = document.createElement('div');\n",
              "          docLink.innerHTML = docLinkHtml;\n",
              "          element.appendChild(docLink);\n",
              "        }\n",
              "      </script>\n",
              "    </div>\n",
              "  </div>\n",
              "  "
            ]
          },
          "metadata": {},
          "execution_count": 45
        }
      ]
    },
    {
      "cell_type": "code",
      "source": [
        "# Was getting an error when running regression that there were NaN or infinite values\n",
        "def clean_dataset(df):\n",
        "    assert isinstance(df, pd.DataFrame)\n",
        "    df.dropna(inplace=True)\n",
        "    indices_to_keep = ~df.isin([np.nan, np.inf, -np.inf]).any(1)\n",
        "    return df[indices_to_keep].astype(np.float64)"
      ],
      "metadata": {
        "id": "XMGbGaLno8Zq"
      },
      "execution_count": null,
      "outputs": []
    },
    {
      "cell_type": "code",
      "source": [
        "df = clean_dataset(df)"
      ],
      "metadata": {
        "id": "YD-GEsRQpGSt"
      },
      "execution_count": null,
      "outputs": []
    },
    {
      "cell_type": "markdown",
      "source": [
        "# Linear Regression using scikit"
      ],
      "metadata": {
        "id": "6tiXHv_YvvT9"
      }
    },
    {
      "cell_type": "code",
      "source": [
        "# Splitting features and labels\n",
        "features = df[desired_columns]\n",
        "target = df['carbon_offset_metric_tons']\n",
        "# Splitting train and test data\n",
        "Xtrain, Xtest, Ytrain, Ytest = train_test_split(features,target,test_size = 0.25,random_state = 1)"
      ],
      "metadata": {
        "id": "OqyXx2z1bNo_"
      },
      "execution_count": null,
      "outputs": []
    },
    {
      "cell_type": "code",
      "source": [
        "# Regression Model\n",
        "linear_regression_model = LinearRegression()\n",
        "# Training\n",
        "linear_regression_model.fit(Xtrain,Ytrain)"
      ],
      "metadata": {
        "colab": {
          "base_uri": "https://localhost:8080/"
        },
        "id": "Z9pr0PjW8R6B",
        "outputId": "ab6816c3-754b-4b55-e609-6a3a9037a59d"
      },
      "execution_count": null,
      "outputs": [
        {
          "output_type": "execute_result",
          "data": {
            "text/plain": [
              "LinearRegression()"
            ]
          },
          "metadata": {},
          "execution_count": 49
        }
      ]
    },
    {
      "cell_type": "code",
      "source": [
        "# How does the model do?\n",
        "# r_sq is a number between 0 and 1 that measures how well a statistical model predicts an outcome\n",
        "r_sq = linear_regression_model.score(Xtrain, Ytrain)\n",
        "# Saving our results\n",
        "accuracy.append(r_sq)\n",
        "model.append('Linear Regression')\n",
        "print(f\"coefficient of determination: {r_sq*100}\")"
      ],
      "metadata": {
        "id": "-l8DTUFG9caV",
        "colab": {
          "base_uri": "https://localhost:8080/"
        },
        "outputId": "4795d784-daff-41b2-f180-3a662cc46bd4"
      },
      "execution_count": null,
      "outputs": [
        {
          "output_type": "stream",
          "name": "stdout",
          "text": [
            "coefficient of determination: 100.0\n"
          ]
        }
      ]
    },
    {
      "cell_type": "markdown",
      "source": [
        "An R^2 of 1 indicates that the regression predictions perfectly fit the data."
      ],
      "metadata": {
        "id": "65cGqDAjqvxr"
      }
    },
    {
      "cell_type": "code",
      "source": [
        "# Test model\n",
        "carbon_offset = linear_regression_model.predict(Xtest)\n",
        "print(f\"predicted response:\\n{carbon_offset}\")"
      ],
      "metadata": {
        "id": "GIRustVa9xkD",
        "colab": {
          "base_uri": "https://localhost:8080/"
        },
        "outputId": "992fdebf-7e17-4355-c51e-0351a43cae7e"
      },
      "execution_count": null,
      "outputs": [
        {
          "output_type": "stream",
          "name": "stdout",
          "text": [
            "predicted response:\n",
            "[0.03685395 0.10368538 0.04007617 ... 0.03537786 0.11350945 0.01141601]\n"
          ]
        }
      ]
    },
    {
      "cell_type": "markdown",
      "source": [
        "# Ridge Regression\n"
      ],
      "metadata": {
        "id": "tfNw4lLGKCEa"
      }
    },
    {
      "cell_type": "code",
      "source": [
        "# L2 ridge regression\n",
        "rr = Ridge(alpha=0.01) # Alpha of 0.01\n",
        "rr.fit(Xtrain, Ytrain) \n",
        "pred_train_rr= rr.predict(Xtrain)\n",
        "print(np.sqrt(mean_squared_error(Ytrain,pred_train_rr)))\n",
        "print(r2_score(Ytrain, pred_train_rr))\n",
        "\n",
        "pred_test_rr= rr.predict(Xtest)\n",
        "print(np.sqrt(mean_squared_error(Ytest,pred_test_rr))) \n",
        "print(r2_score(Ytest, pred_test_rr))"
      ],
      "metadata": {
        "colab": {
          "base_uri": "https://localhost:8080/"
        },
        "id": "sCwZW46HKFG6",
        "outputId": "65139d8b-a75f-44af-e39a-f57c393299ad"
      },
      "execution_count": null,
      "outputs": [
        {
          "output_type": "stream",
          "name": "stdout",
          "text": [
            "2.2552980108523553e-05\n",
            "0.9999996023453993\n",
            "2.455218184915299e-05\n",
            "0.9999995407317798\n"
          ]
        }
      ]
    },
    {
      "cell_type": "code",
      "source": [
        "# L1 Lasso regression\n",
        "model_lasso = Lasso(alpha=0.01) # Alpha of 0.01\n",
        "model_lasso.fit(Xtrain, Ytrain) \n",
        "pred_train_lasso = model_lasso.predict(Xtrain)\n",
        "print(np.sqrt(mean_squared_error(Ytrain,pred_train_lasso)))\n",
        "print(r2_score(Ytrain, pred_train_lasso))\n",
        "\n",
        "pred_test_lasso= model_lasso.predict(Xtest)\n",
        "print(np.sqrt(mean_squared_error(Ytest,pred_test_lasso))) \n",
        "print(r2_score(Ytest, pred_test_lasso))"
      ],
      "metadata": {
        "colab": {
          "base_uri": "https://localhost:8080/"
        },
        "id": "UXxAmRs4Kb7W",
        "outputId": "f4f2c81b-5d6a-4649-e2dc-30756844c483"
      },
      "execution_count": null,
      "outputs": [
        {
          "output_type": "stream",
          "name": "stdout",
          "text": [
            "0.035764398980669417\n",
            "0.0\n",
            "0.036230533648961914\n",
            "-8.21421902947872e-05\n"
          ]
        }
      ]
    },
    {
      "cell_type": "markdown",
      "source": [
        "# Preparing our model for classification algorithms"
      ],
      "metadata": {
        "id": "WjwwYYq-v3sH"
      }
    },
    {
      "cell_type": "code",
      "source": [
        "# df.insert(1, \"carbon_score\", carbon_scores, True)"
      ],
      "metadata": {
        "id": "XM2paBrVXLEq"
      },
      "execution_count": null,
      "outputs": []
    },
    {
      "cell_type": "markdown",
      "source": [
        "Next steps -> \n",
        "\n",
        "Add on additional column giving a carbon score ranking, will be range divided by 5 to give score from 1 to 5. This will allow us to do classification. We need to add confusion matrices for each model as well + visualization."
      ],
      "metadata": {
        "id": "sAzkvYWkzJZo"
      }
    },
    {
      "cell_type": "markdown",
      "source": [
        "# Decision Trees\n"
      ],
      "metadata": {
        "id": "g3n465eFw6aB"
      }
    },
    {
      "cell_type": "code",
      "source": [
        "DecisionTree = DecisionTreeClassifier(criterion=\"entropy\",random_state=2,max_depth=5)\n",
        "\n",
        "DecisionTree.fit(Xtrain,Ytrain)\n",
        "\n",
        "predicted_values = DecisionTree.predict(Xtest)\n",
        "score = metrics.accuracy_score(Ytest, predicted_values)\n",
        "accuracy.append(score)\n",
        "model.append('Decision Tree')\n",
        "print(\"DecisionTrees's Accuracy is: \", score*100)"
      ],
      "metadata": {
        "id": "AEo3IWvVw-DS",
        "colab": {
          "base_uri": "https://localhost:8080/",
          "height": 390
        },
        "outputId": "6bcd3dad-3f35-4a54-fe43-9ec04cc9ca73"
      },
      "execution_count": null,
      "outputs": [
        {
          "output_type": "error",
          "ename": "ValueError",
          "evalue": "ignored",
          "traceback": [
            "\u001b[0;31m---------------------------------------------------------------------------\u001b[0m",
            "\u001b[0;31mValueError\u001b[0m                                Traceback (most recent call last)",
            "\u001b[0;32m<ipython-input-54-2e7107feb71f>\u001b[0m in \u001b[0;36m<module>\u001b[0;34m\u001b[0m\n\u001b[1;32m      1\u001b[0m \u001b[0mDecisionTree\u001b[0m \u001b[0;34m=\u001b[0m \u001b[0mDecisionTreeClassifier\u001b[0m\u001b[0;34m(\u001b[0m\u001b[0mcriterion\u001b[0m\u001b[0;34m=\u001b[0m\u001b[0;34m\"entropy\"\u001b[0m\u001b[0;34m,\u001b[0m\u001b[0mrandom_state\u001b[0m\u001b[0;34m=\u001b[0m\u001b[0;36m2\u001b[0m\u001b[0;34m,\u001b[0m\u001b[0mmax_depth\u001b[0m\u001b[0;34m=\u001b[0m\u001b[0;36m5\u001b[0m\u001b[0;34m)\u001b[0m\u001b[0;34m\u001b[0m\u001b[0;34m\u001b[0m\u001b[0m\n\u001b[1;32m      2\u001b[0m \u001b[0;34m\u001b[0m\u001b[0m\n\u001b[0;32m----> 3\u001b[0;31m \u001b[0mDecisionTree\u001b[0m\u001b[0;34m.\u001b[0m\u001b[0mfit\u001b[0m\u001b[0;34m(\u001b[0m\u001b[0mXtrain\u001b[0m\u001b[0;34m,\u001b[0m\u001b[0mYtrain\u001b[0m\u001b[0;34m)\u001b[0m\u001b[0;34m\u001b[0m\u001b[0;34m\u001b[0m\u001b[0m\n\u001b[0m\u001b[1;32m      4\u001b[0m \u001b[0;34m\u001b[0m\u001b[0m\n\u001b[1;32m      5\u001b[0m \u001b[0mpredicted_values\u001b[0m \u001b[0;34m=\u001b[0m \u001b[0mDecisionTree\u001b[0m\u001b[0;34m.\u001b[0m\u001b[0mpredict\u001b[0m\u001b[0;34m(\u001b[0m\u001b[0mXtest\u001b[0m\u001b[0;34m)\u001b[0m\u001b[0;34m\u001b[0m\u001b[0;34m\u001b[0m\u001b[0m\n",
            "\u001b[0;32m/usr/local/lib/python3.8/dist-packages/sklearn/tree/_classes.py\u001b[0m in \u001b[0;36mfit\u001b[0;34m(self, X, y, sample_weight, check_input, X_idx_sorted)\u001b[0m\n\u001b[1;32m    935\u001b[0m         \"\"\"\n\u001b[1;32m    936\u001b[0m \u001b[0;34m\u001b[0m\u001b[0m\n\u001b[0;32m--> 937\u001b[0;31m         super().fit(\n\u001b[0m\u001b[1;32m    938\u001b[0m             \u001b[0mX\u001b[0m\u001b[0;34m,\u001b[0m\u001b[0;34m\u001b[0m\u001b[0;34m\u001b[0m\u001b[0m\n\u001b[1;32m    939\u001b[0m             \u001b[0my\u001b[0m\u001b[0;34m,\u001b[0m\u001b[0;34m\u001b[0m\u001b[0;34m\u001b[0m\u001b[0m\n",
            "\u001b[0;32m/usr/local/lib/python3.8/dist-packages/sklearn/tree/_classes.py\u001b[0m in \u001b[0;36mfit\u001b[0;34m(self, X, y, sample_weight, check_input, X_idx_sorted)\u001b[0m\n\u001b[1;32m    201\u001b[0m \u001b[0;34m\u001b[0m\u001b[0m\n\u001b[1;32m    202\u001b[0m         \u001b[0;32mif\u001b[0m \u001b[0mis_classification\u001b[0m\u001b[0;34m:\u001b[0m\u001b[0;34m\u001b[0m\u001b[0;34m\u001b[0m\u001b[0m\n\u001b[0;32m--> 203\u001b[0;31m             \u001b[0mcheck_classification_targets\u001b[0m\u001b[0;34m(\u001b[0m\u001b[0my\u001b[0m\u001b[0;34m)\u001b[0m\u001b[0;34m\u001b[0m\u001b[0;34m\u001b[0m\u001b[0m\n\u001b[0m\u001b[1;32m    204\u001b[0m             \u001b[0my\u001b[0m \u001b[0;34m=\u001b[0m \u001b[0mnp\u001b[0m\u001b[0;34m.\u001b[0m\u001b[0mcopy\u001b[0m\u001b[0;34m(\u001b[0m\u001b[0my\u001b[0m\u001b[0;34m)\u001b[0m\u001b[0;34m\u001b[0m\u001b[0;34m\u001b[0m\u001b[0m\n\u001b[1;32m    205\u001b[0m \u001b[0;34m\u001b[0m\u001b[0m\n",
            "\u001b[0;32m/usr/local/lib/python3.8/dist-packages/sklearn/utils/multiclass.py\u001b[0m in \u001b[0;36mcheck_classification_targets\u001b[0;34m(y)\u001b[0m\n\u001b[1;32m    195\u001b[0m         \u001b[0;34m\"multilabel-sequences\"\u001b[0m\u001b[0;34m,\u001b[0m\u001b[0;34m\u001b[0m\u001b[0;34m\u001b[0m\u001b[0m\n\u001b[1;32m    196\u001b[0m     ]:\n\u001b[0;32m--> 197\u001b[0;31m         \u001b[0;32mraise\u001b[0m \u001b[0mValueError\u001b[0m\u001b[0;34m(\u001b[0m\u001b[0;34m\"Unknown label type: %r\"\u001b[0m \u001b[0;34m%\u001b[0m \u001b[0my_type\u001b[0m\u001b[0;34m)\u001b[0m\u001b[0;34m\u001b[0m\u001b[0;34m\u001b[0m\u001b[0m\n\u001b[0m\u001b[1;32m    198\u001b[0m \u001b[0;34m\u001b[0m\u001b[0m\n\u001b[1;32m    199\u001b[0m \u001b[0;34m\u001b[0m\u001b[0m\n",
            "\u001b[0;31mValueError\u001b[0m: Unknown label type: 'continuous'"
          ]
        }
      ]
    },
    {
      "cell_type": "code",
      "source": [
        "# Cross validation score (Decision Tree)\n",
        "score = cross_val_score(DecisionTree, features, target,cv=5)"
      ],
      "metadata": {
        "id": "WmsXgTwhx5cm"
      },
      "execution_count": null,
      "outputs": []
    },
    {
      "cell_type": "markdown",
      "source": [
        "# SVM\n"
      ],
      "metadata": {
        "id": "qWc6hF7gx-Pw"
      }
    },
    {
      "cell_type": "code",
      "source": [
        "SVM = SVC(gamma='auto')\n",
        "\n",
        "SVM.fit(Xtrain,Ytrain)\n",
        "\n",
        "predicted_values = SVM.predict(Xtest)\n",
        "\n",
        "score = metrics.accuracy_score(Ytest, predicted_values)\n",
        "accuracy.append(score)\n",
        "model.append('SVM')\n",
        "print(\"SVM's Accuracy is: \", score*100)\n",
        "\n",
        "print(classification_report(Ytest,predicted_values))"
      ],
      "metadata": {
        "id": "JI1NnQObyBCO"
      },
      "execution_count": null,
      "outputs": []
    },
    {
      "cell_type": "code",
      "source": [
        "# Cross validation score (SVM)\n",
        "score = cross_val_score(SVM,features,target,cv=5)"
      ],
      "metadata": {
        "id": "h_vFNzWqyLU8"
      },
      "execution_count": null,
      "outputs": []
    },
    {
      "cell_type": "markdown",
      "source": [
        "# Logistic Regression"
      ],
      "metadata": {
        "id": "vr5CIdcmyR0y"
      }
    },
    {
      "cell_type": "code",
      "source": [
        "LogReg = LogisticRegression(random_state=2)\n",
        "\n",
        "LogReg.fit(Xtrain,Ytrain)\n",
        "\n",
        "predicted_values = LogReg.predict(Xtest)\n",
        "\n",
        "score = metrics.accuracy_score(Ytest, predicted_values)\n",
        "accuracy.append(score)\n",
        "model.append('Logistic Regression')\n",
        "print(\"Logistic Regression's Accuracy is: \", score*100)\n",
        "\n",
        "print(classification_report(Ytest,predicted_values))\n"
      ],
      "metadata": {
        "id": "17oxuKsKyU4E"
      },
      "execution_count": null,
      "outputs": []
    },
    {
      "cell_type": "code",
      "source": [
        "# Cross validation score (Logistic Regression)\n",
        "score = cross_val_score(LogReg,features,target,cv=5)"
      ],
      "metadata": {
        "id": "GiZIXqbdyZJN"
      },
      "execution_count": null,
      "outputs": []
    },
    {
      "cell_type": "markdown",
      "source": [
        "# Random Forest\n"
      ],
      "metadata": {
        "id": "W_QTLGioyiPF"
      }
    },
    {
      "cell_type": "code",
      "source": [
        "RF = RandomForestClassifier(n_estimators=20, random_state=0)\n",
        "RF.fit(Xtrain,Ytrain)\n",
        "\n",
        "predicted_values = RF.predict(Xtest)\n",
        "\n",
        "score = metrics.accuracy_score(Ytest, predicted_values)\n",
        "accuracy.append(score)\n",
        "model.append('RF')\n",
        "print(\"RF's Accuracy is: \", score*100)\n",
        "\n",
        "print(classification_report(Ytest,predicted_values))"
      ],
      "metadata": {
        "id": "z17pBYBHykHs"
      },
      "execution_count": null,
      "outputs": []
    },
    {
      "cell_type": "code",
      "source": [
        "# Cross validation score (Random Forest)\n",
        "score = cross_val_score(RF,features,target,cv=5)"
      ],
      "metadata": {
        "id": "qiFRpjAsys5c"
      },
      "execution_count": null,
      "outputs": []
    },
    {
      "cell_type": "markdown",
      "source": [
        "# Comparison between models\n"
      ],
      "metadata": {
        "id": "0ulEKg3Pvgxl"
      }
    },
    {
      "cell_type": "code",
      "source": [
        "# plt.figure(figsize=[10,5],dpi = 100)\n",
        "# plt.title('Accuracy Comparison')\n",
        "# plt.xlabel('Accuracy')\n",
        "# plt.ylabel('Algorithm')\n",
        "# sns.barplot(x = acc,y = model,palette='dark')"
      ],
      "metadata": {
        "id": "GwkpYba1vav6"
      },
      "execution_count": null,
      "outputs": []
    },
    {
      "cell_type": "code",
      "source": [
        "# accuracy_models = dict(zip(model, acc))\n",
        "# for k, v in accuracy_models.items():\n",
        "#     print (k, '-->', v)"
      ],
      "metadata": {
        "id": "tbjI2mCPy0kq"
      },
      "execution_count": null,
      "outputs": []
    }
  ]
}